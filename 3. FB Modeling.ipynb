{
 "cells": [
  {
   "cell_type": "code",
   "execution_count": 2,
   "id": "448cbdff",
   "metadata": {},
   "outputs": [],
   "source": [
    "import numpy as np\n",
    "import pandas as pd\n",
    "import matplotlib.pyplot as plt\n",
    "import seaborn as sns\n",
    "import networkx as nx\n",
    "from tqdm import tqdm\n",
    "from sklearn.metrics import confusion_matrix\n",
    "from sklearn.metrics import f1_score\n",
    "from sklearn.metrics import accuracy_score\n",
    "from sklearn.linear_model import SGDClassifier\n",
    "import random\n",
    "import warnings\n",
    "warnings.filterwarnings('ignore')"
   ]
  },
  {
   "cell_type": "code",
   "execution_count": 9,
   "id": "2a638a25",
   "metadata": {},
   "outputs": [
    {
     "name": "stderr",
     "output_type": "stream",
     "text": [
      "C:\\Users\\Admin\\AppData\\Local\\Temp\\ipykernel_10772\\1046942481.py:2: DeprecationWarning: info is deprecated and will be removed in version 3.0.\n",
      "\n",
      "  print(nx.info(train_graph))\n"
     ]
    },
    {
     "name": "stdout",
     "output_type": "stream",
     "text": [
      "DiGraph with 1780768 nodes and 7550015 edges\n"
     ]
    }
   ],
   "source": [
    "train_graph=nx.read_edgelist('train_pos_after_eda.csv',delimiter=',',create_using=nx.DiGraph(),nodetype=int)\n",
    "print(nx.info(train_graph))"
   ]
  },
  {
   "cell_type": "code",
   "execution_count": null,
   "id": "39a38770",
   "metadata": {},
   "outputs": [],
   "source": []
  },
  {
   "cell_type": "code",
   "execution_count": 10,
   "id": "0814aae0",
   "metadata": {},
   "outputs": [
    {
     "data": {
      "text/html": [
       "<div>\n",
       "<style scoped>\n",
       "    .dataframe tbody tr th:only-of-type {\n",
       "        vertical-align: middle;\n",
       "    }\n",
       "\n",
       "    .dataframe tbody tr th {\n",
       "        vertical-align: top;\n",
       "    }\n",
       "\n",
       "    .dataframe thead th {\n",
       "        text-align: right;\n",
       "    }\n",
       "</style>\n",
       "<table border=\"1\" class=\"dataframe\">\n",
       "  <thead>\n",
       "    <tr style=\"text-align: right;\">\n",
       "      <th></th>\n",
       "      <th>Unnamed: 0</th>\n",
       "      <th>source_node</th>\n",
       "      <th>destination_node</th>\n",
       "      <th>indicator_link</th>\n",
       "      <th>num_followers_s</th>\n",
       "      <th>num_followers_d</th>\n",
       "      <th>num_followees_s</th>\n",
       "      <th>num_followees_d</th>\n",
       "      <th>inter_followers</th>\n",
       "      <th>inter_followees</th>\n",
       "      <th>...</th>\n",
       "      <th>hits_s</th>\n",
       "      <th>hits_d</th>\n",
       "      <th>jaccard_for_followees</th>\n",
       "      <th>jaccard_for_followers</th>\n",
       "      <th>cosine_for_followees</th>\n",
       "      <th>cosine_for_followers</th>\n",
       "      <th>same_coummunity</th>\n",
       "      <th>Adar_index</th>\n",
       "      <th>follows_back</th>\n",
       "      <th>shortest_path</th>\n",
       "    </tr>\n",
       "  </thead>\n",
       "  <tbody>\n",
       "    <tr>\n",
       "      <th>0</th>\n",
       "      <td>0</td>\n",
       "      <td>1443525</td>\n",
       "      <td>1177229</td>\n",
       "      <td>1</td>\n",
       "      <td>37</td>\n",
       "      <td>11</td>\n",
       "      <td>0</td>\n",
       "      <td>0</td>\n",
       "      <td>0</td>\n",
       "      <td>0</td>\n",
       "      <td>...</td>\n",
       "      <td>9.536818e-13</td>\n",
       "      <td>4.565034e-11</td>\n",
       "      <td>0.019608</td>\n",
       "      <td>0</td>\n",
       "      <td>0</td>\n",
       "      <td>0</td>\n",
       "      <td>1</td>\n",
       "      <td>0.480126</td>\n",
       "      <td>1</td>\n",
       "      <td>2</td>\n",
       "    </tr>\n",
       "    <tr>\n",
       "      <th>1</th>\n",
       "      <td>1</td>\n",
       "      <td>582845</td>\n",
       "      <td>818904</td>\n",
       "      <td>1</td>\n",
       "      <td>4</td>\n",
       "      <td>2</td>\n",
       "      <td>0</td>\n",
       "      <td>0</td>\n",
       "      <td>0</td>\n",
       "      <td>0</td>\n",
       "      <td>...</td>\n",
       "      <td>2.834183e-17</td>\n",
       "      <td>9.197072e-14</td>\n",
       "      <td>0.000000</td>\n",
       "      <td>0</td>\n",
       "      <td>0</td>\n",
       "      <td>0</td>\n",
       "      <td>1</td>\n",
       "      <td>0.000000</td>\n",
       "      <td>1</td>\n",
       "      <td>9</td>\n",
       "    </tr>\n",
       "    <tr>\n",
       "      <th>2</th>\n",
       "      <td>2</td>\n",
       "      <td>764111</td>\n",
       "      <td>1729045</td>\n",
       "      <td>1</td>\n",
       "      <td>20</td>\n",
       "      <td>23</td>\n",
       "      <td>0</td>\n",
       "      <td>0</td>\n",
       "      <td>0</td>\n",
       "      <td>0</td>\n",
       "      <td>...</td>\n",
       "      <td>1.558661e-13</td>\n",
       "      <td>1.139772e-14</td>\n",
       "      <td>0.000000</td>\n",
       "      <td>0</td>\n",
       "      <td>0</td>\n",
       "      <td>0</td>\n",
       "      <td>1</td>\n",
       "      <td>0.000000</td>\n",
       "      <td>1</td>\n",
       "      <td>5</td>\n",
       "    </tr>\n",
       "    <tr>\n",
       "      <th>3</th>\n",
       "      <td>3</td>\n",
       "      <td>499479</td>\n",
       "      <td>828225</td>\n",
       "      <td>1</td>\n",
       "      <td>0</td>\n",
       "      <td>2</td>\n",
       "      <td>0</td>\n",
       "      <td>0</td>\n",
       "      <td>0</td>\n",
       "      <td>0</td>\n",
       "      <td>...</td>\n",
       "      <td>3.075192e-17</td>\n",
       "      <td>1.289906e-15</td>\n",
       "      <td>0.000000</td>\n",
       "      <td>0</td>\n",
       "      <td>0</td>\n",
       "      <td>0</td>\n",
       "      <td>1</td>\n",
       "      <td>0.000000</td>\n",
       "      <td>0</td>\n",
       "      <td>8</td>\n",
       "    </tr>\n",
       "    <tr>\n",
       "      <th>4</th>\n",
       "      <td>4</td>\n",
       "      <td>182676</td>\n",
       "      <td>1647409</td>\n",
       "      <td>1</td>\n",
       "      <td>10</td>\n",
       "      <td>22</td>\n",
       "      <td>0</td>\n",
       "      <td>0</td>\n",
       "      <td>0</td>\n",
       "      <td>0</td>\n",
       "      <td>...</td>\n",
       "      <td>5.601692e-09</td>\n",
       "      <td>1.093959e-11</td>\n",
       "      <td>0.535714</td>\n",
       "      <td>0</td>\n",
       "      <td>0</td>\n",
       "      <td>0</td>\n",
       "      <td>1</td>\n",
       "      <td>15.468246</td>\n",
       "      <td>1</td>\n",
       "      <td>2</td>\n",
       "    </tr>\n",
       "  </tbody>\n",
       "</table>\n",
       "<p>5 rows × 24 columns</p>\n",
       "</div>"
      ],
      "text/plain": [
       "   Unnamed: 0  source_node  destination_node  indicator_link  num_followers_s  \\\n",
       "0           0      1443525           1177229               1               37   \n",
       "1           1       582845            818904               1                4   \n",
       "2           2       764111           1729045               1               20   \n",
       "3           3       499479            828225               1                0   \n",
       "4           4       182676           1647409               1               10   \n",
       "\n",
       "   num_followers_d  num_followees_s  num_followees_d  inter_followers  \\\n",
       "0               11                0                0                0   \n",
       "1                2                0                0                0   \n",
       "2               23                0                0                0   \n",
       "3                2                0                0                0   \n",
       "4               22                0                0                0   \n",
       "\n",
       "   inter_followees  ...        hits_s        hits_d  jaccard_for_followees  \\\n",
       "0                0  ...  9.536818e-13  4.565034e-11               0.019608   \n",
       "1                0  ...  2.834183e-17  9.197072e-14               0.000000   \n",
       "2                0  ...  1.558661e-13  1.139772e-14               0.000000   \n",
       "3                0  ...  3.075192e-17  1.289906e-15               0.000000   \n",
       "4                0  ...  5.601692e-09  1.093959e-11               0.535714   \n",
       "\n",
       "   jaccard_for_followers  cosine_for_followees  cosine_for_followers  \\\n",
       "0                      0                     0                     0   \n",
       "1                      0                     0                     0   \n",
       "2                      0                     0                     0   \n",
       "3                      0                     0                     0   \n",
       "4                      0                     0                     0   \n",
       "\n",
       "   same_coummunity  Adar_index  follows_back  shortest_path  \n",
       "0                1    0.480126             1              2  \n",
       "1                1    0.000000             1              9  \n",
       "2                1    0.000000             1              5  \n",
       "3                1    0.000000             0              8  \n",
       "4                1   15.468246             1              2  \n",
       "\n",
       "[5 rows x 24 columns]"
      ]
     },
     "execution_count": 10,
     "metadata": {},
     "output_type": "execute_result"
    }
   ],
   "source": [
    "df_train=pd.read_csv('FB_train_featurization.csv')\n",
    "df_train.head()"
   ]
  },
  {
   "cell_type": "code",
   "execution_count": 11,
   "id": "67bb3cde",
   "metadata": {},
   "outputs": [
    {
     "data": {
      "text/html": [
       "<div>\n",
       "<style scoped>\n",
       "    .dataframe tbody tr th:only-of-type {\n",
       "        vertical-align: middle;\n",
       "    }\n",
       "\n",
       "    .dataframe tbody tr th {\n",
       "        vertical-align: top;\n",
       "    }\n",
       "\n",
       "    .dataframe thead th {\n",
       "        text-align: right;\n",
       "    }\n",
       "</style>\n",
       "<table border=\"1\" class=\"dataframe\">\n",
       "  <thead>\n",
       "    <tr style=\"text-align: right;\">\n",
       "      <th></th>\n",
       "      <th>Unnamed: 0</th>\n",
       "      <th>source_node</th>\n",
       "      <th>destination_node</th>\n",
       "      <th>indicator_link</th>\n",
       "      <th>num_followers_s</th>\n",
       "      <th>num_followers_d</th>\n",
       "      <th>num_followees_s</th>\n",
       "      <th>num_followees_d</th>\n",
       "      <th>inter_followers</th>\n",
       "      <th>inter_followees</th>\n",
       "      <th>...</th>\n",
       "      <th>hits_s</th>\n",
       "      <th>hits_d</th>\n",
       "      <th>jaccard_for_followees</th>\n",
       "      <th>jaccard_for_followers</th>\n",
       "      <th>cosine_for_followees</th>\n",
       "      <th>cosine_for_followers</th>\n",
       "      <th>same_coummunity</th>\n",
       "      <th>Adar_index</th>\n",
       "      <th>follows_back</th>\n",
       "      <th>shortest_path</th>\n",
       "    </tr>\n",
       "  </thead>\n",
       "  <tbody>\n",
       "    <tr>\n",
       "      <th>0</th>\n",
       "      <td>0</td>\n",
       "      <td>925781</td>\n",
       "      <td>744483</td>\n",
       "      <td>1</td>\n",
       "      <td>8</td>\n",
       "      <td>8</td>\n",
       "      <td>0</td>\n",
       "      <td>0</td>\n",
       "      <td>0</td>\n",
       "      <td>0</td>\n",
       "      <td>...</td>\n",
       "      <td>8.102679e-17</td>\n",
       "      <td>4.691355e-18</td>\n",
       "      <td>0.000000</td>\n",
       "      <td>0</td>\n",
       "      <td>0</td>\n",
       "      <td>0</td>\n",
       "      <td>1</td>\n",
       "      <td>0.000000</td>\n",
       "      <td>1</td>\n",
       "      <td>-1</td>\n",
       "    </tr>\n",
       "    <tr>\n",
       "      <th>1</th>\n",
       "      <td>1</td>\n",
       "      <td>1047516</td>\n",
       "      <td>1767158</td>\n",
       "      <td>1</td>\n",
       "      <td>23</td>\n",
       "      <td>18</td>\n",
       "      <td>0</td>\n",
       "      <td>0</td>\n",
       "      <td>0</td>\n",
       "      <td>0</td>\n",
       "      <td>...</td>\n",
       "      <td>2.676223e-15</td>\n",
       "      <td>2.948024e-15</td>\n",
       "      <td>0.028571</td>\n",
       "      <td>0</td>\n",
       "      <td>0</td>\n",
       "      <td>0</td>\n",
       "      <td>1</td>\n",
       "      <td>1.285097</td>\n",
       "      <td>1</td>\n",
       "      <td>2</td>\n",
       "    </tr>\n",
       "    <tr>\n",
       "      <th>2</th>\n",
       "      <td>2</td>\n",
       "      <td>1123446</td>\n",
       "      <td>798286</td>\n",
       "      <td>1</td>\n",
       "      <td>11</td>\n",
       "      <td>15</td>\n",
       "      <td>0</td>\n",
       "      <td>0</td>\n",
       "      <td>0</td>\n",
       "      <td>0</td>\n",
       "      <td>...</td>\n",
       "      <td>8.410698e-16</td>\n",
       "      <td>1.670059e-15</td>\n",
       "      <td>0.000000</td>\n",
       "      <td>0</td>\n",
       "      <td>0</td>\n",
       "      <td>0</td>\n",
       "      <td>1</td>\n",
       "      <td>0.000000</td>\n",
       "      <td>1</td>\n",
       "      <td>-1</td>\n",
       "    </tr>\n",
       "    <tr>\n",
       "      <th>3</th>\n",
       "      <td>3</td>\n",
       "      <td>1093801</td>\n",
       "      <td>936448</td>\n",
       "      <td>1</td>\n",
       "      <td>2</td>\n",
       "      <td>2</td>\n",
       "      <td>0</td>\n",
       "      <td>0</td>\n",
       "      <td>0</td>\n",
       "      <td>0</td>\n",
       "      <td>...</td>\n",
       "      <td>7.586266e-18</td>\n",
       "      <td>4.112738e-21</td>\n",
       "      <td>0.000000</td>\n",
       "      <td>0</td>\n",
       "      <td>0</td>\n",
       "      <td>0</td>\n",
       "      <td>1</td>\n",
       "      <td>0.000000</td>\n",
       "      <td>1</td>\n",
       "      <td>-1</td>\n",
       "    </tr>\n",
       "    <tr>\n",
       "      <th>4</th>\n",
       "      <td>4</td>\n",
       "      <td>1667658</td>\n",
       "      <td>649427</td>\n",
       "      <td>1</td>\n",
       "      <td>48</td>\n",
       "      <td>19</td>\n",
       "      <td>0</td>\n",
       "      <td>0</td>\n",
       "      <td>0</td>\n",
       "      <td>0</td>\n",
       "      <td>...</td>\n",
       "      <td>1.078604e-18</td>\n",
       "      <td>4.692323e-19</td>\n",
       "      <td>0.192308</td>\n",
       "      <td>0</td>\n",
       "      <td>0</td>\n",
       "      <td>0</td>\n",
       "      <td>1</td>\n",
       "      <td>3.111279</td>\n",
       "      <td>0</td>\n",
       "      <td>2</td>\n",
       "    </tr>\n",
       "  </tbody>\n",
       "</table>\n",
       "<p>5 rows × 24 columns</p>\n",
       "</div>"
      ],
      "text/plain": [
       "   Unnamed: 0  source_node  destination_node  indicator_link  num_followers_s  \\\n",
       "0           0       925781            744483               1                8   \n",
       "1           1      1047516           1767158               1               23   \n",
       "2           2      1123446            798286               1               11   \n",
       "3           3      1093801            936448               1                2   \n",
       "4           4      1667658            649427               1               48   \n",
       "\n",
       "   num_followers_d  num_followees_s  num_followees_d  inter_followers  \\\n",
       "0                8                0                0                0   \n",
       "1               18                0                0                0   \n",
       "2               15                0                0                0   \n",
       "3                2                0                0                0   \n",
       "4               19                0                0                0   \n",
       "\n",
       "   inter_followees  ...        hits_s        hits_d  jaccard_for_followees  \\\n",
       "0                0  ...  8.102679e-17  4.691355e-18               0.000000   \n",
       "1                0  ...  2.676223e-15  2.948024e-15               0.028571   \n",
       "2                0  ...  8.410698e-16  1.670059e-15               0.000000   \n",
       "3                0  ...  7.586266e-18  4.112738e-21               0.000000   \n",
       "4                0  ...  1.078604e-18  4.692323e-19               0.192308   \n",
       "\n",
       "   jaccard_for_followers  cosine_for_followees  cosine_for_followers  \\\n",
       "0                      0                     0                     0   \n",
       "1                      0                     0                     0   \n",
       "2                      0                     0                     0   \n",
       "3                      0                     0                     0   \n",
       "4                      0                     0                     0   \n",
       "\n",
       "   same_coummunity  Adar_index  follows_back  shortest_path  \n",
       "0                1    0.000000             1             -1  \n",
       "1                1    1.285097             1              2  \n",
       "2                1    0.000000             1             -1  \n",
       "3                1    0.000000             1             -1  \n",
       "4                1    3.111279             0              2  \n",
       "\n",
       "[5 rows x 24 columns]"
      ]
     },
     "execution_count": 11,
     "metadata": {},
     "output_type": "execute_result"
    }
   ],
   "source": [
    "df_test=pd.read_csv('FB_test_featurization.csv')\n",
    "df_test.head()"
   ]
  },
  {
   "cell_type": "code",
   "execution_count": 12,
   "id": "312e96db",
   "metadata": {},
   "outputs": [],
   "source": [
    "dft=df_train.loc[df_train['shortest_path']>6]"
   ]
  },
  {
   "cell_type": "code",
   "execution_count": 13,
   "id": "78448d0d",
   "metadata": {},
   "outputs": [
    {
     "data": {
      "text/plain": [
       "0    1229721\n",
       "1     468890\n",
       "Name: indicator_link, dtype: int64"
      ]
     },
     "execution_count": 13,
     "metadata": {},
     "output_type": "execute_result"
    }
   ],
   "source": [
    "dft['indicator_link'].value_counts()"
   ]
  },
  {
   "cell_type": "markdown",
   "id": "d186febb",
   "metadata": {},
   "source": [
    "##### As we can see if the shortest path between nodes is greater than 6 than there is a high probability that it belongs to class 0"
   ]
  },
  {
   "cell_type": "markdown",
   "id": "ebb17243",
   "metadata": {},
   "source": [
    "## Eigen Vector Centrality \n",
    "\n",
    "##### Eigenvector centrality computes the centrality for a node based on the centrality of its neighbors. The eigenvector centrality for node i  is the i-th element of the vector  defined by the equation\n",
    "\n",
    "#####                  Ax=λx\n",
    "\n",
    "https://www.geeksforgeeks.org/eigenvector-centrality-centrality-measure/"
   ]
  },
  {
   "cell_type": "code",
   "execution_count": 14,
   "id": "e0a8ceaa",
   "metadata": {},
   "outputs": [],
   "source": [
    "eigenvector_centrality = nx.eigenvector_centrality(train_graph)"
   ]
  },
  {
   "cell_type": "code",
   "execution_count": 15,
   "id": "4815263a",
   "metadata": {
    "scrolled": true
   },
   "outputs": [
    {
     "data": {
      "text/plain": [
       "7.599976642676034e-13"
      ]
     },
     "execution_count": 15,
     "metadata": {},
     "output_type": "execute_result"
    }
   ],
   "source": [
    "eigenvector_centrality[1]"
   ]
  },
  {
   "cell_type": "code",
   "execution_count": 16,
   "id": "56a1dc67",
   "metadata": {},
   "outputs": [],
   "source": [
    "mean_eigenvector_centrality=sum(eigenvector_centrality.values()) / len(eigenvector_centrality)"
   ]
  },
  {
   "cell_type": "code",
   "execution_count": 17,
   "id": "fc3396e0",
   "metadata": {},
   "outputs": [
    {
     "data": {
      "text/plain": [
       "1.1870931035245929e-05"
      ]
     },
     "execution_count": 17,
     "metadata": {},
     "output_type": "execute_result"
    }
   ],
   "source": [
    "mean_eigenvector_centrality\n"
   ]
  },
  {
   "cell_type": "markdown",
   "id": "a5fa26ad",
   "metadata": {},
   "source": [
    "## Clustring Coefficient\n",
    "The Clustering Coefficient (CC) is a fundamental measure in social network analysis assessing the degree to which nodes tend to cluster together. While CC computation on static graphs is well studied, emerging applications have new requirements for online query of the “global” CC of a given subset of a graph.\n",
    "\n",
    "https://www.geeksforgeeks.org/clustering-coefficient-graph-theory/"
   ]
  },
  {
   "cell_type": "code",
   "execution_count": 18,
   "id": "56f877b0",
   "metadata": {},
   "outputs": [],
   "source": [
    "clustering_coefficient=nx.clustering(train_graph)"
   ]
  },
  {
   "cell_type": "code",
   "execution_count": 19,
   "id": "ff7b99ac",
   "metadata": {},
   "outputs": [],
   "source": [
    "mean_clustering_coefficient=sum(clustering_coefficient.values()) / len(clustering_coefficient)"
   ]
  },
  {
   "cell_type": "code",
   "execution_count": 20,
   "id": "e513f1a5",
   "metadata": {
    "scrolled": true
   },
   "outputs": [
    {
     "name": "stdout",
     "output_type": "stream",
     "text": [
      "0.14443801028822292\n"
     ]
    }
   ],
   "source": [
    "print(mean_clustering_coefficient)"
   ]
  },
  {
   "cell_type": "markdown",
   "id": "aa28e198",
   "metadata": {},
   "source": []
  },
  {
   "cell_type": "code",
   "execution_count": 21,
   "id": "23482997",
   "metadata": {},
   "outputs": [],
   "source": [
    "def compute_features_stage4(dft):\n",
    "    eigenvector_centrality_s=[]\n",
    "    eigenvector_centrality_d=[]\n",
    "    clustering_coefficient_s=[]\n",
    "    clustering_coefficient_d=[]\n",
    "    for i,row in tqdm(dft.iterrows()):\n",
    "        eigenvector_centrality_s.append(eigenvector_centrality.get(row['source_node'],mean_eigenvector_centrality))\n",
    "        eigenvector_centrality_d.append(eigenvector_centrality.get(row['destination_node'],mean_eigenvector_centrality))\n",
    "        clustering_coefficient_s.append(clustering_coefficient.get(row['source_node'],mean_clustering_coefficient)) \n",
    "        clustering_coefficient_d.append(clustering_coefficient.get(row['destination_node'],mean_clustering_coefficient))\n",
    "    \n",
    "    return eigenvector_centrality_s, \\\n",
    "    eigenvector_centrality_d ,\\\n",
    "    clustering_coefficient_s, \\\n",
    "    clustering_coefficient_d"
   ]
  },
  {
   "cell_type": "code",
   "execution_count": 22,
   "id": "836a2c5b",
   "metadata": {},
   "outputs": [
    {
     "name": "stderr",
     "output_type": "stream",
     "text": [
      "15099763it [09:55, 25368.45it/s]\n"
     ]
    }
   ],
   "source": [
    "df_train['eigenvector_centrality_s'],df_train['eigenvector_centrality_d'],\\\n",
    "df_train['clustering_coefficient_s'],df_train['clustering_coefficient_d']=compute_features_stage4(df_train)\n"
   ]
  },
  {
   "cell_type": "code",
   "execution_count": 23,
   "id": "5e734588",
   "metadata": {
    "scrolled": true
   },
   "outputs": [
    {
     "name": "stderr",
     "output_type": "stream",
     "text": [
      "3774942it [02:36, 24125.37it/s]\n"
     ]
    }
   ],
   "source": [
    "df_test['eigenvector_centrality_s'],df_test['eigenvector_centrality_d'],\\\n",
    "df_test['clustering_coefficient_s'],df_test['clustering_coefficient_d']=compute_features_stage4(df_test)"
   ]
  },
  {
   "cell_type": "code",
   "execution_count": 24,
   "id": "4a31fa5e",
   "metadata": {},
   "outputs": [
    {
     "data": {
      "text/html": [
       "<div>\n",
       "<style scoped>\n",
       "    .dataframe tbody tr th:only-of-type {\n",
       "        vertical-align: middle;\n",
       "    }\n",
       "\n",
       "    .dataframe tbody tr th {\n",
       "        vertical-align: top;\n",
       "    }\n",
       "\n",
       "    .dataframe thead th {\n",
       "        text-align: right;\n",
       "    }\n",
       "</style>\n",
       "<table border=\"1\" class=\"dataframe\">\n",
       "  <thead>\n",
       "    <tr style=\"text-align: right;\">\n",
       "      <th></th>\n",
       "      <th>Unnamed: 0</th>\n",
       "      <th>source_node</th>\n",
       "      <th>destination_node</th>\n",
       "      <th>indicator_link</th>\n",
       "      <th>num_followers_s</th>\n",
       "      <th>num_followers_d</th>\n",
       "      <th>num_followees_s</th>\n",
       "      <th>num_followees_d</th>\n",
       "      <th>inter_followers</th>\n",
       "      <th>inter_followees</th>\n",
       "      <th>...</th>\n",
       "      <th>cosine_for_followees</th>\n",
       "      <th>cosine_for_followers</th>\n",
       "      <th>same_coummunity</th>\n",
       "      <th>Adar_index</th>\n",
       "      <th>follows_back</th>\n",
       "      <th>shortest_path</th>\n",
       "      <th>eigenvector_centrality_s</th>\n",
       "      <th>eigenvector_centrality_d</th>\n",
       "      <th>clustering_coefficient_s</th>\n",
       "      <th>clustering_coefficient_d</th>\n",
       "    </tr>\n",
       "  </thead>\n",
       "  <tbody>\n",
       "    <tr>\n",
       "      <th>0</th>\n",
       "      <td>0</td>\n",
       "      <td>1443525</td>\n",
       "      <td>1177229</td>\n",
       "      <td>1</td>\n",
       "      <td>37</td>\n",
       "      <td>11</td>\n",
       "      <td>0</td>\n",
       "      <td>0</td>\n",
       "      <td>0</td>\n",
       "      <td>0</td>\n",
       "      <td>...</td>\n",
       "      <td>0</td>\n",
       "      <td>0</td>\n",
       "      <td>1</td>\n",
       "      <td>0.480126</td>\n",
       "      <td>1</td>\n",
       "      <td>2</td>\n",
       "      <td>2.632796e-07</td>\n",
       "      <td>1.424547e-08</td>\n",
       "      <td>0.036225</td>\n",
       "      <td>0.015929</td>\n",
       "    </tr>\n",
       "    <tr>\n",
       "      <th>1</th>\n",
       "      <td>1</td>\n",
       "      <td>582845</td>\n",
       "      <td>818904</td>\n",
       "      <td>1</td>\n",
       "      <td>4</td>\n",
       "      <td>2</td>\n",
       "      <td>0</td>\n",
       "      <td>0</td>\n",
       "      <td>0</td>\n",
       "      <td>0</td>\n",
       "      <td>...</td>\n",
       "      <td>0</td>\n",
       "      <td>0</td>\n",
       "      <td>1</td>\n",
       "      <td>0.000000</td>\n",
       "      <td>1</td>\n",
       "      <td>9</td>\n",
       "      <td>4.103598e-12</td>\n",
       "      <td>1.147427e-10</td>\n",
       "      <td>0.000000</td>\n",
       "      <td>0.134494</td>\n",
       "    </tr>\n",
       "    <tr>\n",
       "      <th>2</th>\n",
       "      <td>2</td>\n",
       "      <td>764111</td>\n",
       "      <td>1729045</td>\n",
       "      <td>1</td>\n",
       "      <td>20</td>\n",
       "      <td>23</td>\n",
       "      <td>0</td>\n",
       "      <td>0</td>\n",
       "      <td>0</td>\n",
       "      <td>0</td>\n",
       "      <td>...</td>\n",
       "      <td>0</td>\n",
       "      <td>0</td>\n",
       "      <td>1</td>\n",
       "      <td>0.000000</td>\n",
       "      <td>1</td>\n",
       "      <td>5</td>\n",
       "      <td>1.975490e-09</td>\n",
       "      <td>3.854421e-10</td>\n",
       "      <td>0.031532</td>\n",
       "      <td>0.020073</td>\n",
       "    </tr>\n",
       "    <tr>\n",
       "      <th>3</th>\n",
       "      <td>3</td>\n",
       "      <td>499479</td>\n",
       "      <td>828225</td>\n",
       "      <td>1</td>\n",
       "      <td>0</td>\n",
       "      <td>2</td>\n",
       "      <td>0</td>\n",
       "      <td>0</td>\n",
       "      <td>0</td>\n",
       "      <td>0</td>\n",
       "      <td>...</td>\n",
       "      <td>0</td>\n",
       "      <td>0</td>\n",
       "      <td>1</td>\n",
       "      <td>0.000000</td>\n",
       "      <td>0</td>\n",
       "      <td>8</td>\n",
       "      <td>6.744329e-23</td>\n",
       "      <td>1.576278e-12</td>\n",
       "      <td>0.000000</td>\n",
       "      <td>0.147059</td>\n",
       "    </tr>\n",
       "    <tr>\n",
       "      <th>4</th>\n",
       "      <td>4</td>\n",
       "      <td>182676</td>\n",
       "      <td>1647409</td>\n",
       "      <td>1</td>\n",
       "      <td>10</td>\n",
       "      <td>22</td>\n",
       "      <td>0</td>\n",
       "      <td>0</td>\n",
       "      <td>0</td>\n",
       "      <td>0</td>\n",
       "      <td>...</td>\n",
       "      <td>0</td>\n",
       "      <td>0</td>\n",
       "      <td>1</td>\n",
       "      <td>15.468246</td>\n",
       "      <td>1</td>\n",
       "      <td>2</td>\n",
       "      <td>3.399486e-13</td>\n",
       "      <td>1.819383e-13</td>\n",
       "      <td>0.310591</td>\n",
       "      <td>0.387500</td>\n",
       "    </tr>\n",
       "  </tbody>\n",
       "</table>\n",
       "<p>5 rows × 28 columns</p>\n",
       "</div>"
      ],
      "text/plain": [
       "   Unnamed: 0  source_node  destination_node  indicator_link  num_followers_s  \\\n",
       "0           0      1443525           1177229               1               37   \n",
       "1           1       582845            818904               1                4   \n",
       "2           2       764111           1729045               1               20   \n",
       "3           3       499479            828225               1                0   \n",
       "4           4       182676           1647409               1               10   \n",
       "\n",
       "   num_followers_d  num_followees_s  num_followees_d  inter_followers  \\\n",
       "0               11                0                0                0   \n",
       "1                2                0                0                0   \n",
       "2               23                0                0                0   \n",
       "3                2                0                0                0   \n",
       "4               22                0                0                0   \n",
       "\n",
       "   inter_followees  ...  cosine_for_followees  cosine_for_followers  \\\n",
       "0                0  ...                     0                     0   \n",
       "1                0  ...                     0                     0   \n",
       "2                0  ...                     0                     0   \n",
       "3                0  ...                     0                     0   \n",
       "4                0  ...                     0                     0   \n",
       "\n",
       "   same_coummunity  Adar_index  follows_back  shortest_path  \\\n",
       "0                1    0.480126             1              2   \n",
       "1                1    0.000000             1              9   \n",
       "2                1    0.000000             1              5   \n",
       "3                1    0.000000             0              8   \n",
       "4                1   15.468246             1              2   \n",
       "\n",
       "   eigenvector_centrality_s  eigenvector_centrality_d  \\\n",
       "0              2.632796e-07              1.424547e-08   \n",
       "1              4.103598e-12              1.147427e-10   \n",
       "2              1.975490e-09              3.854421e-10   \n",
       "3              6.744329e-23              1.576278e-12   \n",
       "4              3.399486e-13              1.819383e-13   \n",
       "\n",
       "   clustering_coefficient_s  clustering_coefficient_d  \n",
       "0                  0.036225                  0.015929  \n",
       "1                  0.000000                  0.134494  \n",
       "2                  0.031532                  0.020073  \n",
       "3                  0.000000                  0.147059  \n",
       "4                  0.310591                  0.387500  \n",
       "\n",
       "[5 rows x 28 columns]"
      ]
     },
     "execution_count": 24,
     "metadata": {},
     "output_type": "execute_result"
    }
   ],
   "source": [
    "df_train.head()"
   ]
  },
  {
   "cell_type": "code",
   "execution_count": 25,
   "id": "b8bda38b",
   "metadata": {},
   "outputs": [],
   "source": [
    "df_train.to_csv('Final.csv')\n",
    "df_test.to_csv(\"Final_test.csv\")"
   ]
  },
  {
   "cell_type": "code",
   "execution_count": 3,
   "id": "3e48374a",
   "metadata": {
    "scrolled": true
   },
   "outputs": [
    {
     "data": {
      "text/html": [
       "<div>\n",
       "<style scoped>\n",
       "    .dataframe tbody tr th:only-of-type {\n",
       "        vertical-align: middle;\n",
       "    }\n",
       "\n",
       "    .dataframe tbody tr th {\n",
       "        vertical-align: top;\n",
       "    }\n",
       "\n",
       "    .dataframe thead th {\n",
       "        text-align: right;\n",
       "    }\n",
       "</style>\n",
       "<table border=\"1\" class=\"dataframe\">\n",
       "  <thead>\n",
       "    <tr style=\"text-align: right;\">\n",
       "      <th></th>\n",
       "      <th>source_node</th>\n",
       "      <th>destination_node</th>\n",
       "      <th>indicator_link</th>\n",
       "      <th>num_followers_s</th>\n",
       "      <th>num_followers_d</th>\n",
       "      <th>num_followees_s</th>\n",
       "      <th>num_followees_d</th>\n",
       "      <th>inter_followers</th>\n",
       "      <th>inter_followees</th>\n",
       "      <th>page_rank_s</th>\n",
       "      <th>...</th>\n",
       "      <th>cosine_for_followees</th>\n",
       "      <th>cosine_for_followers</th>\n",
       "      <th>same_coummunity</th>\n",
       "      <th>Adar_index</th>\n",
       "      <th>follows_back</th>\n",
       "      <th>shortest_path</th>\n",
       "      <th>eigenvector_centrality_s</th>\n",
       "      <th>eigenvector_centrality_d</th>\n",
       "      <th>clustering_coefficient_s</th>\n",
       "      <th>clustering_coefficient_d</th>\n",
       "    </tr>\n",
       "  </thead>\n",
       "  <tbody>\n",
       "    <tr>\n",
       "      <th>0</th>\n",
       "      <td>1443525</td>\n",
       "      <td>1177229</td>\n",
       "      <td>1</td>\n",
       "      <td>37</td>\n",
       "      <td>11</td>\n",
       "      <td>0</td>\n",
       "      <td>0</td>\n",
       "      <td>0</td>\n",
       "      <td>0</td>\n",
       "      <td>1.850118e-06</td>\n",
       "      <td>...</td>\n",
       "      <td>0</td>\n",
       "      <td>0</td>\n",
       "      <td>1</td>\n",
       "      <td>0.480126</td>\n",
       "      <td>1</td>\n",
       "      <td>2</td>\n",
       "      <td>2.632796e-07</td>\n",
       "      <td>1.424547e-08</td>\n",
       "      <td>0.036225</td>\n",
       "      <td>0.015929</td>\n",
       "    </tr>\n",
       "    <tr>\n",
       "      <th>1</th>\n",
       "      <td>582845</td>\n",
       "      <td>818904</td>\n",
       "      <td>1</td>\n",
       "      <td>4</td>\n",
       "      <td>2</td>\n",
       "      <td>0</td>\n",
       "      <td>0</td>\n",
       "      <td>0</td>\n",
       "      <td>0</td>\n",
       "      <td>7.622485e-07</td>\n",
       "      <td>...</td>\n",
       "      <td>0</td>\n",
       "      <td>0</td>\n",
       "      <td>1</td>\n",
       "      <td>0.000000</td>\n",
       "      <td>1</td>\n",
       "      <td>9</td>\n",
       "      <td>4.103598e-12</td>\n",
       "      <td>1.147427e-10</td>\n",
       "      <td>0.000000</td>\n",
       "      <td>0.134494</td>\n",
       "    </tr>\n",
       "    <tr>\n",
       "      <th>2</th>\n",
       "      <td>764111</td>\n",
       "      <td>1729045</td>\n",
       "      <td>1</td>\n",
       "      <td>20</td>\n",
       "      <td>23</td>\n",
       "      <td>0</td>\n",
       "      <td>0</td>\n",
       "      <td>0</td>\n",
       "      <td>0</td>\n",
       "      <td>2.882923e-06</td>\n",
       "      <td>...</td>\n",
       "      <td>0</td>\n",
       "      <td>0</td>\n",
       "      <td>1</td>\n",
       "      <td>0.000000</td>\n",
       "      <td>1</td>\n",
       "      <td>5</td>\n",
       "      <td>1.975490e-09</td>\n",
       "      <td>3.854421e-10</td>\n",
       "      <td>0.031532</td>\n",
       "      <td>0.020073</td>\n",
       "    </tr>\n",
       "    <tr>\n",
       "      <th>3</th>\n",
       "      <td>499479</td>\n",
       "      <td>828225</td>\n",
       "      <td>1</td>\n",
       "      <td>0</td>\n",
       "      <td>2</td>\n",
       "      <td>0</td>\n",
       "      <td>0</td>\n",
       "      <td>0</td>\n",
       "      <td>0</td>\n",
       "      <td>1.655959e-07</td>\n",
       "      <td>...</td>\n",
       "      <td>0</td>\n",
       "      <td>0</td>\n",
       "      <td>1</td>\n",
       "      <td>0.000000</td>\n",
       "      <td>0</td>\n",
       "      <td>8</td>\n",
       "      <td>6.744329e-23</td>\n",
       "      <td>1.576278e-12</td>\n",
       "      <td>0.000000</td>\n",
       "      <td>0.147059</td>\n",
       "    </tr>\n",
       "    <tr>\n",
       "      <th>4</th>\n",
       "      <td>182676</td>\n",
       "      <td>1647409</td>\n",
       "      <td>1</td>\n",
       "      <td>10</td>\n",
       "      <td>22</td>\n",
       "      <td>0</td>\n",
       "      <td>0</td>\n",
       "      <td>0</td>\n",
       "      <td>0</td>\n",
       "      <td>4.898329e-07</td>\n",
       "      <td>...</td>\n",
       "      <td>0</td>\n",
       "      <td>0</td>\n",
       "      <td>1</td>\n",
       "      <td>15.468246</td>\n",
       "      <td>1</td>\n",
       "      <td>2</td>\n",
       "      <td>3.399486e-13</td>\n",
       "      <td>1.819383e-13</td>\n",
       "      <td>0.310591</td>\n",
       "      <td>0.387500</td>\n",
       "    </tr>\n",
       "  </tbody>\n",
       "</table>\n",
       "<p>5 rows × 27 columns</p>\n",
       "</div>"
      ],
      "text/plain": [
       "   source_node  destination_node  indicator_link  num_followers_s  \\\n",
       "0      1443525           1177229               1               37   \n",
       "1       582845            818904               1                4   \n",
       "2       764111           1729045               1               20   \n",
       "3       499479            828225               1                0   \n",
       "4       182676           1647409               1               10   \n",
       "\n",
       "   num_followers_d  num_followees_s  num_followees_d  inter_followers  \\\n",
       "0               11                0                0                0   \n",
       "1                2                0                0                0   \n",
       "2               23                0                0                0   \n",
       "3                2                0                0                0   \n",
       "4               22                0                0                0   \n",
       "\n",
       "   inter_followees   page_rank_s  ...  cosine_for_followees  \\\n",
       "0                0  1.850118e-06  ...                     0   \n",
       "1                0  7.622485e-07  ...                     0   \n",
       "2                0  2.882923e-06  ...                     0   \n",
       "3                0  1.655959e-07  ...                     0   \n",
       "4                0  4.898329e-07  ...                     0   \n",
       "\n",
       "   cosine_for_followers  same_coummunity  Adar_index  follows_back  \\\n",
       "0                     0                1    0.480126             1   \n",
       "1                     0                1    0.000000             1   \n",
       "2                     0                1    0.000000             1   \n",
       "3                     0                1    0.000000             0   \n",
       "4                     0                1   15.468246             1   \n",
       "\n",
       "   shortest_path  eigenvector_centrality_s  eigenvector_centrality_d  \\\n",
       "0              2              2.632796e-07              1.424547e-08   \n",
       "1              9              4.103598e-12              1.147427e-10   \n",
       "2              5              1.975490e-09              3.854421e-10   \n",
       "3              8              6.744329e-23              1.576278e-12   \n",
       "4              2              3.399486e-13              1.819383e-13   \n",
       "\n",
       "   clustering_coefficient_s  clustering_coefficient_d  \n",
       "0                  0.036225                  0.015929  \n",
       "1                  0.000000                  0.134494  \n",
       "2                  0.031532                  0.020073  \n",
       "3                  0.000000                  0.147059  \n",
       "4                  0.310591                  0.387500  \n",
       "\n",
       "[5 rows x 27 columns]"
      ]
     },
     "execution_count": 3,
     "metadata": {},
     "output_type": "execute_result"
    }
   ],
   "source": [
    "df_train=pd.read_csv('Final.csv')\n",
    "df_test=pd.read_csv('Final_test.csv')\n",
    "df_train=df_train.drop(['Unnamed: 0','Unnamed: 0.1'],axis=1)\n",
    "df_test=df_test.drop(['Unnamed: 0','Unnamed: 0.1'],axis=1)\n",
    "df_train.head()\n"
   ]
  },
  {
   "cell_type": "code",
   "execution_count": null,
   "id": "abea93da",
   "metadata": {},
   "outputs": [],
   "source": [
    "\n",
    "\n"
   ]
  },
  {
   "cell_type": "markdown",
   "id": "5402a8dc",
   "metadata": {},
   "source": [
    "# Modeling"
   ]
  },
  {
   "cell_type": "markdown",
   "id": "22bf9425",
   "metadata": {},
   "source": [
    "## Random Model"
   ]
  },
  {
   "cell_type": "code",
   "execution_count": 4,
   "id": "f6c6b043",
   "metadata": {},
   "outputs": [],
   "source": [
    "def Confusion_matrix(test_y,predict_y):\n",
    "    C=confusion_matrix(test_y,predict_y)\n",
    "    A=(((C.T)/(C.sum(axis=1))).T)\n",
    "    B=(C/C.sum(axis=0))\n",
    "    plt.figure(figsize=(20,4))\n",
    "    labels=[0,1]\n",
    "    cmap=sns.light_palette('red')\n",
    "    plt.subplot(1,3,1)\n",
    "    sns.heatmap(C,annot=True,cmap=cmap,fmt='.3f',xticklabels=labels,yticklabels=labels)\n",
    "    plt.xlabel('Predicted Class')\n",
    "    plt.ylabel('Original Class')\n",
    "    plt.title('Confusion Matrix')\n",
    "    \n",
    "    plt.subplot(1,3,2)\n",
    "    sns.heatmap(A,annot=True,cmap=cmap,fmt='.3f',xticklabels=labels,yticklabels=labels)\n",
    "    plt.xlabel('Predicted Class')\n",
    "    plt.ylabel('Original Class')\n",
    "    plt.title('Precision Matrix')\n",
    "    \n",
    "    plt.subplot(1,3,3)\n",
    "    sns.heatmap(C,annot=True,cmap=cmap,fmt='.3f',xticklabels=labels,yticklabels=labels)\n",
    "    plt.xlabel('Predicted Class')\n",
    "    plt.ylabel('Original Class')\n",
    "    plt.title('Recall Matrix')\n",
    "    plt.show()"
   ]
  },
  {
   "cell_type": "code",
   "execution_count": 5,
   "id": "6ded62e6",
   "metadata": {},
   "outputs": [],
   "source": [
    "random_model_predict=[]\n",
    "for i in range(df_test.shape[0]):\n",
    "    random_model_predict.append(random.randint(0,1))"
   ]
  },
  {
   "cell_type": "code",
   "execution_count": 6,
   "id": "d2e5f83d",
   "metadata": {
    "scrolled": true
   },
   "outputs": [
    {
     "data": {
      "image/png": "[encoded data removed]",
      "text/plain": [
       "<Figure size 1440x288 with 6 Axes>"
      ]
     },
     "metadata": {
      "needs_background": "light"
     },
     "output_type": "display_data"
    },
    {
     "name": "stdout",
     "output_type": "stream",
     "text": [
      "F1 score for random model 0.49977252547595435\n"
     ]
    }
   ],
   "source": [
    "Confusion_matrix(df_test['indicator_link'],random_model_predict)\n",
    "print('F1 score for random model',f1_score(df_test['indicator_link'],random_model_predict))"
   ]
  },
  {
   "cell_type": "markdown",
   "id": "cbae2f38",
   "metadata": {},
   "source": [
    "### Train and Test split"
   ]
  },
  {
   "cell_type": "code",
   "execution_count": 7,
   "id": "891e959a",
   "metadata": {
    "scrolled": true
   },
   "outputs": [
    {
     "data": {
      "text/html": [
       "<div>\n",
       "<style scoped>\n",
       "    .dataframe tbody tr th:only-of-type {\n",
       "        vertical-align: middle;\n",
       "    }\n",
       "\n",
       "    .dataframe tbody tr th {\n",
       "        vertical-align: top;\n",
       "    }\n",
       "\n",
       "    .dataframe thead th {\n",
       "        text-align: right;\n",
       "    }\n",
       "</style>\n",
       "<table border=\"1\" class=\"dataframe\">\n",
       "  <thead>\n",
       "    <tr style=\"text-align: right;\">\n",
       "      <th></th>\n",
       "      <th>source_node</th>\n",
       "      <th>destination_node</th>\n",
       "      <th>num_followers_s</th>\n",
       "      <th>num_followers_d</th>\n",
       "      <th>num_followees_s</th>\n",
       "      <th>num_followees_d</th>\n",
       "      <th>inter_followers</th>\n",
       "      <th>inter_followees</th>\n",
       "      <th>page_rank_s</th>\n",
       "      <th>page_rank_d</th>\n",
       "      <th>...</th>\n",
       "      <th>cosine_for_followees</th>\n",
       "      <th>cosine_for_followers</th>\n",
       "      <th>same_coummunity</th>\n",
       "      <th>Adar_index</th>\n",
       "      <th>follows_back</th>\n",
       "      <th>shortest_path</th>\n",
       "      <th>eigenvector_centrality_s</th>\n",
       "      <th>eigenvector_centrality_d</th>\n",
       "      <th>clustering_coefficient_s</th>\n",
       "      <th>clustering_coefficient_d</th>\n",
       "    </tr>\n",
       "  </thead>\n",
       "  <tbody>\n",
       "    <tr>\n",
       "      <th>0</th>\n",
       "      <td>1443525</td>\n",
       "      <td>1177229</td>\n",
       "      <td>37</td>\n",
       "      <td>11</td>\n",
       "      <td>0</td>\n",
       "      <td>0</td>\n",
       "      <td>0</td>\n",
       "      <td>0</td>\n",
       "      <td>1.850118e-06</td>\n",
       "      <td>1.756390e-06</td>\n",
       "      <td>...</td>\n",
       "      <td>0</td>\n",
       "      <td>0</td>\n",
       "      <td>1</td>\n",
       "      <td>0.480126</td>\n",
       "      <td>1</td>\n",
       "      <td>2</td>\n",
       "      <td>2.632796e-07</td>\n",
       "      <td>1.424547e-08</td>\n",
       "      <td>0.036225</td>\n",
       "      <td>0.015929</td>\n",
       "    </tr>\n",
       "    <tr>\n",
       "      <th>1</th>\n",
       "      <td>582845</td>\n",
       "      <td>818904</td>\n",
       "      <td>4</td>\n",
       "      <td>2</td>\n",
       "      <td>0</td>\n",
       "      <td>0</td>\n",
       "      <td>0</td>\n",
       "      <td>0</td>\n",
       "      <td>7.622485e-07</td>\n",
       "      <td>1.222512e-06</td>\n",
       "      <td>...</td>\n",
       "      <td>0</td>\n",
       "      <td>0</td>\n",
       "      <td>1</td>\n",
       "      <td>0.000000</td>\n",
       "      <td>1</td>\n",
       "      <td>9</td>\n",
       "      <td>4.103598e-12</td>\n",
       "      <td>1.147427e-10</td>\n",
       "      <td>0.000000</td>\n",
       "      <td>0.134494</td>\n",
       "    </tr>\n",
       "    <tr>\n",
       "      <th>2</th>\n",
       "      <td>764111</td>\n",
       "      <td>1729045</td>\n",
       "      <td>20</td>\n",
       "      <td>23</td>\n",
       "      <td>0</td>\n",
       "      <td>0</td>\n",
       "      <td>0</td>\n",
       "      <td>0</td>\n",
       "      <td>2.882923e-06</td>\n",
       "      <td>8.497469e-07</td>\n",
       "      <td>...</td>\n",
       "      <td>0</td>\n",
       "      <td>0</td>\n",
       "      <td>1</td>\n",
       "      <td>0.000000</td>\n",
       "      <td>1</td>\n",
       "      <td>5</td>\n",
       "      <td>1.975490e-09</td>\n",
       "      <td>3.854421e-10</td>\n",
       "      <td>0.031532</td>\n",
       "      <td>0.020073</td>\n",
       "    </tr>\n",
       "    <tr>\n",
       "      <th>3</th>\n",
       "      <td>499479</td>\n",
       "      <td>828225</td>\n",
       "      <td>0</td>\n",
       "      <td>2</td>\n",
       "      <td>0</td>\n",
       "      <td>0</td>\n",
       "      <td>0</td>\n",
       "      <td>0</td>\n",
       "      <td>1.655959e-07</td>\n",
       "      <td>6.110965e-07</td>\n",
       "      <td>...</td>\n",
       "      <td>0</td>\n",
       "      <td>0</td>\n",
       "      <td>1</td>\n",
       "      <td>0.000000</td>\n",
       "      <td>0</td>\n",
       "      <td>8</td>\n",
       "      <td>6.744329e-23</td>\n",
       "      <td>1.576278e-12</td>\n",
       "      <td>0.000000</td>\n",
       "      <td>0.147059</td>\n",
       "    </tr>\n",
       "    <tr>\n",
       "      <th>4</th>\n",
       "      <td>182676</td>\n",
       "      <td>1647409</td>\n",
       "      <td>10</td>\n",
       "      <td>22</td>\n",
       "      <td>0</td>\n",
       "      <td>0</td>\n",
       "      <td>0</td>\n",
       "      <td>0</td>\n",
       "      <td>4.898329e-07</td>\n",
       "      <td>3.031131e-07</td>\n",
       "      <td>...</td>\n",
       "      <td>0</td>\n",
       "      <td>0</td>\n",
       "      <td>1</td>\n",
       "      <td>15.468246</td>\n",
       "      <td>1</td>\n",
       "      <td>2</td>\n",
       "      <td>3.399486e-13</td>\n",
       "      <td>1.819383e-13</td>\n",
       "      <td>0.310591</td>\n",
       "      <td>0.387500</td>\n",
       "    </tr>\n",
       "  </tbody>\n",
       "</table>\n",
       "<p>5 rows × 26 columns</p>\n",
       "</div>"
      ],
      "text/plain": [
       "   source_node  destination_node  num_followers_s  num_followers_d  \\\n",
       "0      1443525           1177229               37               11   \n",
       "1       582845            818904                4                2   \n",
       "2       764111           1729045               20               23   \n",
       "3       499479            828225                0                2   \n",
       "4       182676           1647409               10               22   \n",
       "\n",
       "   num_followees_s  num_followees_d  inter_followers  inter_followees  \\\n",
       "0                0                0                0                0   \n",
       "1                0                0                0                0   \n",
       "2                0                0                0                0   \n",
       "3                0                0                0                0   \n",
       "4                0                0                0                0   \n",
       "\n",
       "    page_rank_s   page_rank_d  ...  cosine_for_followees  \\\n",
       "0  1.850118e-06  1.756390e-06  ...                     0   \n",
       "1  7.622485e-07  1.222512e-06  ...                     0   \n",
       "2  2.882923e-06  8.497469e-07  ...                     0   \n",
       "3  1.655959e-07  6.110965e-07  ...                     0   \n",
       "4  4.898329e-07  3.031131e-07  ...                     0   \n",
       "\n",
       "   cosine_for_followers  same_coummunity  Adar_index  follows_back  \\\n",
       "0                     0                1    0.480126             1   \n",
       "1                     0                1    0.000000             1   \n",
       "2                     0                1    0.000000             1   \n",
       "3                     0                1    0.000000             0   \n",
       "4                     0                1   15.468246             1   \n",
       "\n",
       "   shortest_path  eigenvector_centrality_s  eigenvector_centrality_d  \\\n",
       "0              2              2.632796e-07              1.424547e-08   \n",
       "1              9              4.103598e-12              1.147427e-10   \n",
       "2              5              1.975490e-09              3.854421e-10   \n",
       "3              8              6.744329e-23              1.576278e-12   \n",
       "4              2              3.399486e-13              1.819383e-13   \n",
       "\n",
       "   clustering_coefficient_s  clustering_coefficient_d  \n",
       "0                  0.036225                  0.015929  \n",
       "1                  0.000000                  0.134494  \n",
       "2                  0.031532                  0.020073  \n",
       "3                  0.000000                  0.147059  \n",
       "4                  0.310591                  0.387500  \n",
       "\n",
       "[5 rows x 26 columns]"
      ]
     },
     "execution_count": 7,
     "metadata": {},
     "output_type": "execute_result"
    }
   ],
   "source": [
    "Y_train=df_train['indicator_link']\n",
    "df_train=df_train.drop([\"indicator_link\"],axis=1)\n",
    "df_train.head()"
   ]
  },
  {
   "cell_type": "code",
   "execution_count": 8,
   "id": "a4fb9f90",
   "metadata": {
    "scrolled": true
   },
   "outputs": [
    {
     "data": {
      "text/html": [
       "<div>\n",
       "<style scoped>\n",
       "    .dataframe tbody tr th:only-of-type {\n",
       "        vertical-align: middle;\n",
       "    }\n",
       "\n",
       "    .dataframe tbody tr th {\n",
       "        vertical-align: top;\n",
       "    }\n",
       "\n",
       "    .dataframe thead th {\n",
       "        text-align: right;\n",
       "    }\n",
       "</style>\n",
       "<table border=\"1\" class=\"dataframe\">\n",
       "  <thead>\n",
       "    <tr style=\"text-align: right;\">\n",
       "      <th></th>\n",
       "      <th>source_node</th>\n",
       "      <th>destination_node</th>\n",
       "      <th>num_followers_s</th>\n",
       "      <th>num_followers_d</th>\n",
       "      <th>num_followees_s</th>\n",
       "      <th>num_followees_d</th>\n",
       "      <th>inter_followers</th>\n",
       "      <th>inter_followees</th>\n",
       "      <th>page_rank_s</th>\n",
       "      <th>page_rank_d</th>\n",
       "      <th>...</th>\n",
       "      <th>cosine_for_followees</th>\n",
       "      <th>cosine_for_followers</th>\n",
       "      <th>same_coummunity</th>\n",
       "      <th>Adar_index</th>\n",
       "      <th>follows_back</th>\n",
       "      <th>shortest_path</th>\n",
       "      <th>eigenvector_centrality_s</th>\n",
       "      <th>eigenvector_centrality_d</th>\n",
       "      <th>clustering_coefficient_s</th>\n",
       "      <th>clustering_coefficient_d</th>\n",
       "    </tr>\n",
       "  </thead>\n",
       "  <tbody>\n",
       "    <tr>\n",
       "      <th>0</th>\n",
       "      <td>925781</td>\n",
       "      <td>744483</td>\n",
       "      <td>8</td>\n",
       "      <td>8</td>\n",
       "      <td>0</td>\n",
       "      <td>0</td>\n",
       "      <td>0</td>\n",
       "      <td>0</td>\n",
       "      <td>1.233243e-06</td>\n",
       "      <td>5.633643e-07</td>\n",
       "      <td>...</td>\n",
       "      <td>0</td>\n",
       "      <td>0</td>\n",
       "      <td>1</td>\n",
       "      <td>0.000000</td>\n",
       "      <td>1</td>\n",
       "      <td>-1</td>\n",
       "      <td>1.162253e-11</td>\n",
       "      <td>2.793157e-13</td>\n",
       "      <td>0.094828</td>\n",
       "      <td>0.111111</td>\n",
       "    </tr>\n",
       "    <tr>\n",
       "      <th>1</th>\n",
       "      <td>1047516</td>\n",
       "      <td>1767158</td>\n",
       "      <td>23</td>\n",
       "      <td>18</td>\n",
       "      <td>0</td>\n",
       "      <td>0</td>\n",
       "      <td>0</td>\n",
       "      <td>0</td>\n",
       "      <td>1.393932e-06</td>\n",
       "      <td>1.666371e-06</td>\n",
       "      <td>...</td>\n",
       "      <td>0</td>\n",
       "      <td>0</td>\n",
       "      <td>1</td>\n",
       "      <td>1.285097</td>\n",
       "      <td>1</td>\n",
       "      <td>2</td>\n",
       "      <td>6.548818e-08</td>\n",
       "      <td>1.470550e-07</td>\n",
       "      <td>0.179280</td>\n",
       "      <td>0.037827</td>\n",
       "    </tr>\n",
       "    <tr>\n",
       "      <th>2</th>\n",
       "      <td>1123446</td>\n",
       "      <td>798286</td>\n",
       "      <td>11</td>\n",
       "      <td>15</td>\n",
       "      <td>0</td>\n",
       "      <td>0</td>\n",
       "      <td>0</td>\n",
       "      <td>0</td>\n",
       "      <td>1.119169e-06</td>\n",
       "      <td>1.784965e-07</td>\n",
       "      <td>...</td>\n",
       "      <td>0</td>\n",
       "      <td>0</td>\n",
       "      <td>1</td>\n",
       "      <td>0.000000</td>\n",
       "      <td>1</td>\n",
       "      <td>-1</td>\n",
       "      <td>1.012897e-10</td>\n",
       "      <td>2.887322e-09</td>\n",
       "      <td>0.030063</td>\n",
       "      <td>0.000000</td>\n",
       "    </tr>\n",
       "    <tr>\n",
       "      <th>3</th>\n",
       "      <td>1093801</td>\n",
       "      <td>936448</td>\n",
       "      <td>2</td>\n",
       "      <td>2</td>\n",
       "      <td>0</td>\n",
       "      <td>0</td>\n",
       "      <td>0</td>\n",
       "      <td>0</td>\n",
       "      <td>6.863109e-07</td>\n",
       "      <td>1.655959e-07</td>\n",
       "      <td>...</td>\n",
       "      <td>0</td>\n",
       "      <td>0</td>\n",
       "      <td>1</td>\n",
       "      <td>0.000000</td>\n",
       "      <td>1</td>\n",
       "      <td>-1</td>\n",
       "      <td>1.110120e-13</td>\n",
       "      <td>6.744329e-23</td>\n",
       "      <td>0.000000</td>\n",
       "      <td>0.000000</td>\n",
       "    </tr>\n",
       "    <tr>\n",
       "      <th>4</th>\n",
       "      <td>1667658</td>\n",
       "      <td>649427</td>\n",
       "      <td>48</td>\n",
       "      <td>19</td>\n",
       "      <td>0</td>\n",
       "      <td>0</td>\n",
       "      <td>0</td>\n",
       "      <td>0</td>\n",
       "      <td>9.345963e-07</td>\n",
       "      <td>8.432756e-07</td>\n",
       "      <td>...</td>\n",
       "      <td>0</td>\n",
       "      <td>0</td>\n",
       "      <td>1</td>\n",
       "      <td>3.111279</td>\n",
       "      <td>0</td>\n",
       "      <td>2</td>\n",
       "      <td>4.386665e-07</td>\n",
       "      <td>4.731431e-07</td>\n",
       "      <td>0.468651</td>\n",
       "      <td>0.508502</td>\n",
       "    </tr>\n",
       "  </tbody>\n",
       "</table>\n",
       "<p>5 rows × 26 columns</p>\n",
       "</div>"
      ],
      "text/plain": [
       "   source_node  destination_node  num_followers_s  num_followers_d  \\\n",
       "0       925781            744483                8                8   \n",
       "1      1047516           1767158               23               18   \n",
       "2      1123446            798286               11               15   \n",
       "3      1093801            936448                2                2   \n",
       "4      1667658            649427               48               19   \n",
       "\n",
       "   num_followees_s  num_followees_d  inter_followers  inter_followees  \\\n",
       "0                0                0                0                0   \n",
       "1                0                0                0                0   \n",
       "2                0                0                0                0   \n",
       "3                0                0                0                0   \n",
       "4                0                0                0                0   \n",
       "\n",
       "    page_rank_s   page_rank_d  ...  cosine_for_followees  \\\n",
       "0  1.233243e-06  5.633643e-07  ...                     0   \n",
       "1  1.393932e-06  1.666371e-06  ...                     0   \n",
       "2  1.119169e-06  1.784965e-07  ...                     0   \n",
       "3  6.863109e-07  1.655959e-07  ...                     0   \n",
       "4  9.345963e-07  8.432756e-07  ...                     0   \n",
       "\n",
       "   cosine_for_followers  same_coummunity  Adar_index  follows_back  \\\n",
       "0                     0                1    0.000000             1   \n",
       "1                     0                1    1.285097             1   \n",
       "2                     0                1    0.000000             1   \n",
       "3                     0                1    0.000000             1   \n",
       "4                     0                1    3.111279             0   \n",
       "\n",
       "   shortest_path  eigenvector_centrality_s  eigenvector_centrality_d  \\\n",
       "0             -1              1.162253e-11              2.793157e-13   \n",
       "1              2              6.548818e-08              1.470550e-07   \n",
       "2             -1              1.012897e-10              2.887322e-09   \n",
       "3             -1              1.110120e-13              6.744329e-23   \n",
       "4              2              4.386665e-07              4.731431e-07   \n",
       "\n",
       "   clustering_coefficient_s  clustering_coefficient_d  \n",
       "0                  0.094828                  0.111111  \n",
       "1                  0.179280                  0.037827  \n",
       "2                  0.030063                  0.000000  \n",
       "3                  0.000000                  0.000000  \n",
       "4                  0.468651                  0.508502  \n",
       "\n",
       "[5 rows x 26 columns]"
      ]
     },
     "execution_count": 8,
     "metadata": {},
     "output_type": "execute_result"
    }
   ],
   "source": [
    "Y_test=df_test['indicator_link']\n",
    "df_test=df_test.drop([\"indicator_link\"],axis=1)\n",
    "df_test.head()"
   ]
  },
  {
   "cell_type": "code",
   "execution_count": null,
   "id": "56fac7b7",
   "metadata": {},
   "outputs": [],
   "source": []
  },
  {
   "cell_type": "code",
   "execution_count": null,
   "id": "1e69632c",
   "metadata": {},
   "outputs": [],
   "source": []
  },
  {
   "cell_type": "markdown",
   "id": "8fe2e97b",
   "metadata": {},
   "source": [
    "## Logistic Regression"
   ]
  },
  {
   "cell_type": "code",
   "execution_count": 9,
   "id": "850ad21d",
   "metadata": {},
   "outputs": [
    {
     "name": "stderr",
     "output_type": "stream",
     "text": [
      " 14%|█▍        | 1/7 [1:23:19<8:19:59, 4999.90s/it]"
     ]
    },
    {
     "name": "stdout",
     "output_type": "stream",
     "text": [
      "For alpha value  1e-05  f1 score  0.6784822426597952\n"
     ]
    },
    {
     "name": "stderr",
     "output_type": "stream",
     "text": [
      "\r",
      " 29%|██▊       | 2/7 [2:52:39<7:14:18, 5211.72s/it]"
     ]
    },
    {
     "name": "stdout",
     "output_type": "stream",
     "text": [
      "For alpha value  0.0001  f1 score  0.6299474358491276\n"
     ]
    },
    {
     "name": "stderr",
     "output_type": "stream",
     "text": [
      "\r",
      " 43%|████▎     | 3/7 [4:17:54<5:44:28, 5167.15s/it]"
     ]
    },
    {
     "name": "stdout",
     "output_type": "stream",
     "text": [
      "For alpha value  0.001  f1 score  0.5184406658046178\n"
     ]
    },
    {
     "name": "stderr",
     "output_type": "stream",
     "text": [
      "\r",
      " 57%|█████▋    | 4/7 [5:41:22<4:15:13, 5104.53s/it]"
     ]
    },
    {
     "name": "stdout",
     "output_type": "stream",
     "text": [
      "For alpha value  0.01  f1 score  0.5597029411269318\n"
     ]
    },
    {
     "name": "stderr",
     "output_type": "stream",
     "text": [
      "\r",
      " 71%|███████▏  | 5/7 [7:26:57<3:04:56, 5548.16s/it]"
     ]
    },
    {
     "name": "stdout",
     "output_type": "stream",
     "text": [
      "For alpha value  0.1  f1 score  0.6666739662237718\n"
     ]
    },
    {
     "name": "stderr",
     "output_type": "stream",
     "text": [
      "\r",
      " 86%|████████▌ | 6/7 [8:48:24<1:28:43, 5323.59s/it]"
     ]
    },
    {
     "name": "stdout",
     "output_type": "stream",
     "text": [
      "For alpha value  1  f1 score  0.6552212741633131\n"
     ]
    },
    {
     "name": "stderr",
     "output_type": "stream",
     "text": [
      "100%|██████████| 7/7 [10:10:22<00:00, 5231.72s/it] "
     ]
    },
    {
     "name": "stdout",
     "output_type": "stream",
     "text": [
      "For alpha value  10  f1 score  0.666680677440952\n"
     ]
    },
    {
     "name": "stderr",
     "output_type": "stream",
     "text": [
      "\n"
     ]
    }
   ],
   "source": [
    "alpha=[10**x for x in range(-5,2)]\n",
    "f1_score_alpha=[]\n",
    "for i in tqdm(alpha):\n",
    "    clf=SGDClassifier(alpha=i,loss='log',penalty='l2',n_jobs=-1,random_state=15)\n",
    "    clf.fit(df_train,Y_train)\n",
    "    predict=clf.predict(df_test)\n",
    "    f1_score_alpha.append(f1_score(predict,Y_test))\n",
    "    print('For alpha value ',i,' f1 score ',f1_score_alpha[-1])\n",
    "    "
   ]
  },
  {
   "cell_type": "code",
   "execution_count": 11,
   "id": "c74e4d84",
   "metadata": {},
   "outputs": [
    {
     "data": {
      "text/plain": [
       "[]"
      ]
     },
     "execution_count": 11,
     "metadata": {},
     "output_type": "execute_result"
    },
    {
     "data": {
      "image/png": "[encoded data removed]",
      "text/plain": [
       "<Figure size 432x288 with 1 Axes>"
      ]
     },
     "metadata": {
      "needs_background": "light"
     },
     "output_type": "display_data"
    }
   ],
   "source": [
    "fig,ax=plt.subplots()\n",
    "ax.plot(alpha,f1_score_alpha,c='g')\n",
    "for i,text in enumerate(np.round(f1_score_alpha,2)):\n",
    "    ax.annotate((alpha[i],str(text)),(alpha[i],f1_score_alpha[i]))\n",
    "plt.xlabel(\"Alpha i's\")\n",
    "plt.ylabel('F1 score')\n",
    "plt.plot()"
   ]
  },
  {
   "cell_type": "code",
   "execution_count": 12,
   "id": "aab72961",
   "metadata": {},
   "outputs": [],
   "source": [
    "best_alpha_logisticRegression=np.argmax(f1_score_alpha)"
   ]
  },
  {
   "cell_type": "markdown",
   "id": "5feb8376",
   "metadata": {},
   "source": [
    "## Linear SVM"
   ]
  },
  {
   "cell_type": "code",
   "execution_count": 13,
   "id": "051ae160",
   "metadata": {},
   "outputs": [
    {
     "name": "stderr",
     "output_type": "stream",
     "text": [
      " 14%|█▍        | 1/7 [1:13:18<7:19:50, 4398.39s/it]"
     ]
    },
    {
     "name": "stdout",
     "output_type": "stream",
     "text": [
      "For alpha value  1e-05  f1 score  0.27110697254032384\n"
     ]
    },
    {
     "name": "stderr",
     "output_type": "stream",
     "text": [
      "\r",
      " 29%|██▊       | 2/7 [2:26:51<6:07:14, 4406.84s/it]"
     ]
    },
    {
     "name": "stdout",
     "output_type": "stream",
     "text": [
      "For alpha value  0.0001  f1 score  0.4636818173429508\n"
     ]
    },
    {
     "name": "stderr",
     "output_type": "stream",
     "text": [
      "\r",
      " 43%|████▎     | 3/7 [3:50:23<5:12:13, 4683.29s/it]"
     ]
    },
    {
     "name": "stdout",
     "output_type": "stream",
     "text": [
      "For alpha value  0.001  f1 score  0.7046858054554235\n"
     ]
    },
    {
     "name": "stderr",
     "output_type": "stream",
     "text": [
      "\r",
      " 57%|█████▋    | 4/7 [5:03:07<3:47:52, 4557.37s/it]"
     ]
    },
    {
     "name": "stdout",
     "output_type": "stream",
     "text": [
      "For alpha value  0.01  f1 score  0.6537674824462479\n"
     ]
    },
    {
     "name": "stderr",
     "output_type": "stream",
     "text": [
      "\r",
      " 71%|███████▏  | 5/7 [14:36:29<8:30:39, 15319.58s/it]"
     ]
    },
    {
     "name": "stdout",
     "output_type": "stream",
     "text": [
      "For alpha value  0.1  f1 score  0.6666742016920254\n"
     ]
    },
    {
     "name": "stderr",
     "output_type": "stream",
     "text": [
      "\r",
      " 86%|████████▌ | 6/7 [15:46:56<3:12:27, 11548.00s/it]"
     ]
    },
    {
     "name": "stdout",
     "output_type": "stream",
     "text": [
      "For alpha value  1  f1 score  0.24711171121445663\n"
     ]
    },
    {
     "name": "stderr",
     "output_type": "stream",
     "text": [
      "100%|██████████| 7/7 [16:58:58<00:00, 8734.08s/it]   "
     ]
    },
    {
     "name": "stdout",
     "output_type": "stream",
     "text": [
      "For alpha value  10  f1 score  0.3929013964652329\n"
     ]
    },
    {
     "name": "stderr",
     "output_type": "stream",
     "text": [
      "\n"
     ]
    }
   ],
   "source": [
    "alpha=[10**x for x in range(-5,2)]\n",
    "f1_score_alpha=[]\n",
    "for i in tqdm(alpha):\n",
    "    clf=SGDClassifier(alpha=i,loss='hinge',penalty='l2',n_jobs=-1,random_state=15)\n",
    "    clf.fit(df_train,Y_train)\n",
    "    predict=clf.predict(df_test)\n",
    "    f1_score_alpha.append(f1_score(predict,Y_test))\n",
    "    print('For alpha value ',i,' f1 score ',f1_score_alpha[-1])\n",
    "    "
   ]
  },
  {
   "cell_type": "code",
   "execution_count": 15,
   "id": "38ed1bc9",
   "metadata": {},
   "outputs": [
    {
     "data": {
      "text/plain": [
       "[]"
      ]
     },
     "execution_count": 15,
     "metadata": {},
     "output_type": "execute_result"
    },
    {
     "data": {
      "image/png": "[encoded data removed]",
      "text/plain": [
       "<Figure size 432x288 with 1 Axes>"
      ]
     },
     "metadata": {
      "needs_background": "light"
     },
     "output_type": "display_data"
    }
   ],
   "source": [
    "fig,ax=plt.subplots()\n",
    "ax.plot(alpha,f1_score_alpha,c='g')\n",
    "for i,text in enumerate(np.round(f1_score_alpha,2)):\n",
    "    ax.annotate((alpha[i],str(text)),(alpha[i],f1_score_alpha[i]))\n",
    "plt.xlabel(\"Alpha i's\")\n",
    "plt.ylabel('F1 score')\n",
    "plt.plot()"
   ]
  },
  {
   "cell_type": "code",
   "execution_count": 16,
   "id": "b2f0a2bf",
   "metadata": {},
   "outputs": [],
   "source": [
    "best_alpha_SVM=np.argmax(f1_score_alpha)"
   ]
  },
  {
   "cell_type": "markdown",
   "id": "92f0d87d",
   "metadata": {},
   "source": [
    "## Random Forest"
   ]
  },
  {
   "cell_type": "code",
   "execution_count": 19,
   "id": "1700ca32",
   "metadata": {},
   "outputs": [
    {
     "name": "stderr",
     "output_type": "stream",
     "text": [
      " 25%|██▌       | 1/4 [48:25<2:25:15, 2905.13s/it]"
     ]
    },
    {
     "name": "stdout",
     "output_type": "stream",
     "text": [
      "For max depth  5  f1 score  0.8962005443610418\n"
     ]
    },
    {
     "name": "stderr",
     "output_type": "stream",
     "text": [
      "\r",
      " 50%|█████     | 2/4 [2:01:06<2:05:23, 3761.58s/it]"
     ]
    },
    {
     "name": "stdout",
     "output_type": "stream",
     "text": [
      "For max depth  10  f1 score  0.9134717263602226\n"
     ]
    },
    {
     "name": "stderr",
     "output_type": "stream",
     "text": [
      "\r",
      " 75%|███████▌  | 3/4 [3:34:06<1:16:31, 4591.99s/it]"
     ]
    },
    {
     "name": "stdout",
     "output_type": "stream",
     "text": [
      "For max depth  15  f1 score  0.9125715444858542\n"
     ]
    },
    {
     "name": "stderr",
     "output_type": "stream",
     "text": [
      "100%|██████████| 4/4 [5:18:41<00:00, 4780.35s/it]  "
     ]
    },
    {
     "name": "stdout",
     "output_type": "stream",
     "text": [
      "For max depth  20  f1 score  0.9099945079969304\n"
     ]
    },
    {
     "name": "stderr",
     "output_type": "stream",
     "text": [
      "\n"
     ]
    }
   ],
   "source": [
    "from sklearn.ensemble import RandomForestClassifier\n",
    "f1_score_max_depth=[]\n",
    "max_depth=[x for x in range(5,25,5)]\n",
    "for i in tqdm(max_depth):\n",
    "    clf=RandomForestClassifier(max_depth=i,random_state=15)\n",
    "    clf.fit(df_train,Y_train)\n",
    "    predict=clf.predict(df_test)\n",
    "    f1_score_max_depth.append(f1_score(predict,Y_test))\n",
    "    print('For max depth ',i,' f1 score ',f1_score_max_depth[-1])"
   ]
  },
  {
   "cell_type": "code",
   "execution_count": 22,
   "id": "310b23c6",
   "metadata": {},
   "outputs": [
    {
     "data": {
      "image/png": "[encoded data removed]",
      "text/plain": [
       "<Figure size 432x288 with 1 Axes>"
      ]
     },
     "metadata": {
      "needs_background": "light"
     },
     "output_type": "display_data"
    }
   ],
   "source": [
    "fig,ax=plt.subplots()\n",
    "ax.plot(max_depth,f1_score_max_depth,c='g')\n",
    "for i,text in enumerate(np.round(f1_score_max_depth,2)):\n",
    "    ax.annotate((max_depth[i],str(text)),(max_depth[i],f1_score_max_depth[i]))\n",
    "plt.xlabel(\"Max depth's\")\n",
    "plt.ylabel('F1 score')\n",
    "plt.plot()\n",
    "best_max_depth=np.argmax(f1_score_max_depth)"
   ]
  },
  {
   "cell_type": "code",
   "execution_count": 25,
   "id": "aa0abf69",
   "metadata": {},
   "outputs": [
    {
     "name": "stdout",
     "output_type": "stream",
     "text": [
      "******************** Logistic Regression ********************\n",
      "F1 score on test data  0.5436062024853072 F1 score on train data 0.5612336648909076\n",
      "******************** SVM ********************\n",
      "F1 score on test data  0.5881972999670728 F1 score on train data 0.5955268742769626\n",
      "******************** RANDOM FOREST ********************\n",
      "F1 score on test data  0.9068301027918593 F1 score on train data 0.9353618220388029\n"
     ]
    }
   ],
   "source": [
    "print('*'*30,'Logistic Regression','*'*30)\n",
    "clf=SGDClassifier(alpha=alpha[best_alpha_logisticRegression],loss='log',penalty='l2',n_jobs=-1,random_state=15)\n",
    "clf.fit(df_train,Y_train)\n",
    "predict=clf.predict(df_test)\n",
    "predict_train=clf.predict(df_train)\n",
    "print('F1 score on test data ',f1_score(predict,Y_test),'F1 score on train data',f1_score(predict_train,Y_train))\n",
    "print()\n",
    "print('*'*35,'SVM','*'*35)\n",
    "clf=SGDClassifier(alpha=alpha[best_alpha_SVM],loss='hinge',penalty='l2',n_jobs=-1,random_state=15)\n",
    "clf.fit(df_train,Y_train)\n",
    "predict=clf.predict(df_test)\n",
    "predict_train=clf.predict(df_train)\n",
    "print('F1 score on test data ',f1_score(predict,Y_test),'F1 score on train data',f1_score(predict_train,Y_train))\n",
    "print()\n",
    "print('*'*30,'RANDOM FOREST','*'*30)\n",
    "clf=RandomForestClassifier(max_depth=max_depth[best_max_depth],random_state=15)\n",
    "clf.fit(df_train,Y_train)\n",
    "predict=clf.predict(df_test)\n",
    "predict=clf.predict(df_test)\n",
    "predict_train=clf.predict(df_train)\n",
    "print('F1 score on test data ',f1_score(predict,Y_test),'F1 score on train data',f1_score(predict_train,Y_train))\n"
   ]
  }
 ],
 "metadata": {
  "kernelspec": {
   "display_name": "Python 3 (ipykernel)",
   "language": "python",
   "name": "python3"
  },
  "language_info": {
   "codemirror_mode": {
    "name": "ipython",
    "version": 3
   },
   "file_extension": ".py",
   "mimetype": "text/x-python",
   "name": "python",
   "nbconvert_exporter": "python",
   "pygments_lexer": "ipython3",
   "version": "3.9.12"
  }
 },
 "nbformat": 4,
 "nbformat_minor": 5
}
