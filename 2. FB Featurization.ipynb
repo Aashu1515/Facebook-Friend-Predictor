{
 "cells": [
  {
   "cell_type": "code",
   "execution_count": 1,
   "id": "d72d5f92",
   "metadata": {
    "pycharm": {
     "name": "#%%\n"
    }
   },
   "outputs": [],
   "source": [
    "import pandas as pd\n",
    "import numpy as np\n",
    "import matplotlib.pyplot as plt\n",
    "import pickle\n",
    "import seaborn as sns\n",
    "import networkx as nx\n",
    "from tqdm import tqdm\n",
    "from numba import jit, cuda,vectorize\n",
    "import scipy"
   ]
  },
  {
   "cell_type": "code",
   "execution_count": 2,
   "id": "06c9e087",
   "metadata": {
    "scrolled": true,
    "pycharm": {
     "name": "#%%\n"
    }
   },
   "outputs": [
    {
     "data": {
      "text/plain": [
       "'1.9.0'"
      ]
     },
     "execution_count": 2,
     "metadata": {},
     "output_type": "execute_result"
    }
   ],
   "source": [
    "scipy.__version__"
   ]
  },
  {
   "cell_type": "code",
   "execution_count": 3,
   "id": "4952c4c6",
   "metadata": {
    "pycharm": {
     "name": "#%%\n"
    }
   },
   "outputs": [
    {
     "name": "stderr",
     "output_type": "stream",
     "text": [
      "C:\\Users\\Admin\\AppData\\Local\\Temp\\ipykernel_18384\\1046942481.py:2: DeprecationWarning: info is deprecated and will be removed in version 3.0.\n",
      "\n",
      "  print(nx.info(train_graph))\n"
     ]
    },
    {
     "name": "stdout",
     "output_type": "stream",
     "text": [
      "DiGraph with 1780768 nodes and 7550015 edges\n"
     ]
    }
   ],
   "source": [
    "train_graph=nx.read_edgelist('train_pos_after_eda.csv',delimiter=',',create_using=nx.DiGraph(),nodetype=int)\n",
    "print(nx.info(train_graph))"
   ]
  },
  {
   "cell_type": "markdown",
   "id": "555be9b6",
   "metadata": {
    "pycharm": {
     "name": "#%% md\n"
    }
   },
   "source": [
    "## Similarity Measures\n",
    "\n",
    "### Jaccard Distance:\n",
    "##### The Jaccard similarity index (sometimes called the Jaccard similarity coefficient) compares members for two sets to see which members are shared and which are distinct. It’s a measure of similarity for the two sets of data, with a range from 0% to 100%. The higher the percentage, the more similar the two populations.\n",
    "\n",
    "https://www.statisticshowto.com/jaccard-index/\n",
    "\n"
   ]
  },
  {
   "cell_type": "code",
   "execution_count": 4,
   "id": "5a13e687",
   "metadata": {
    "pycharm": {
     "name": "#%%\n"
    }
   },
   "outputs": [],
   "source": [
    "def Jaccard_for_followees(a,b):\n",
    "    try:\n",
    "        if len(set(train_graph.successors(a)))==0|len(set(train_graph.successors(b)))==b:  \n",
    "            return 0\n",
    "        sim = (len(set(train_graph.successors(a)).intersection(set(train_graph.successors(b)))))/\\\n",
    "                (len(set(train_graph.successors(a)).union(set(train_graph.successors(b)))))\n",
    "    except:\n",
    "        return 0\n",
    "    return sim"
   ]
  },
  {
   "cell_type": "code",
   "execution_count": null,
   "id": "c15ccfa0",
   "metadata": {
    "pycharm": {
     "name": "#%%\n"
    }
   },
   "outputs": [],
   "source": [
    "\n"
   ]
  },
  {
   "cell_type": "code",
   "execution_count": 5,
   "id": "0ff2b492",
   "metadata": {
    "pycharm": {
     "name": "#%%\n"
    }
   },
   "outputs": [],
   "source": [
    "def Jaccard_for_followers(a,b):\n",
    "    try:\n",
    "        if len(set(train_graph.predecessors(a))) == 0  | len(set(g.predecessors(b))) == 0:\n",
    "            return 0\n",
    "        sim = (len(set(train_graph.predecessors(a)).intersection(set(train_graph.predecessors(b)))))/\\\n",
    "                                 (len(set(train_graph.predecessors(a)).union(set(train_graph.predecessors(b)))))\n",
    "        return sim\n",
    "    except:\n",
    "        return 0"
   ]
  },
  {
   "cell_type": "markdown",
   "id": "28e5f9ba",
   "metadata": {
    "pycharm": {
     "name": "#%% md\n"
    }
   },
   "source": [
    "## Cosine distance\n",
    "##### Cosine similarity is a metric, helpful in determining, how similar the data objects are irrespective of their size. We can measure the similarity between two sentences in Python using Cosine Similarity.\n",
    "\\begin{equation}\n",
    "CosineDistance = \\frac{|X\\cap Y|}{|X|\\cdot|Y|} \n",
    "\\end{equation}"
   ]
  },
  {
   "cell_type": "code",
   "execution_count": 6,
   "id": "018dfc20",
   "metadata": {
    "pycharm": {
     "name": "#%%\n"
    }
   },
   "outputs": [],
   "source": [
    "def Cosine_for_followees(a,b):\n",
    "    try:\n",
    "        if len(set(train_graph.successors(a))) == 0  | len(set(train_graph.successors(b))) == 0:\n",
    "            return 0\n",
    "        sim = (len(set(train_graph.successors(a)).intersection(set(train_graph.successors(b)))))/\\\n",
    "                                    (math.sqrt(len(set(train_graph.successors(a)))*len((set(train_graph.successors(b))))))\n",
    "        return sim\n",
    "    except:\n",
    "        return 0"
   ]
  },
  {
   "cell_type": "code",
   "execution_count": 7,
   "id": "b00baf15",
   "metadata": {
    "pycharm": {
     "name": "#%%\n"
    }
   },
   "outputs": [],
   "source": [
    "def Cosine_for_followers(a,b):\n",
    "    try:\n",
    "        \n",
    "        if len(set(train_graph.predecessors(a))) == 0  | len(set(train_graph.predecessors(b))) == 0:\n",
    "            return 0\n",
    "        sim = (len(set(train_graph.predecessors(a)).intersection(set(train_graph.predecessors(b)))))/\\\n",
    "                                     (math.sqrt(len(set(train_graph.predecessors(a))))*(len(set(train_graph.predecessors(b)))))\n",
    "        return sim\n",
    "    except:\n",
    "        return 0"
   ]
  },
  {
   "cell_type": "markdown",
   "id": "e1d406c7",
   "metadata": {
    "pycharm": {
     "name": "#%% md\n"
    }
   },
   "source": [
    "## Page Ranking\n",
    "\n",
    "##### PageRank (PR) is an algorithm used by Google Search to rank websites in their search engine results. PageRank was named after Larry Page, one of the founders of Google. PageRank is a way of measuring the importance of website pages.\n",
    "##### PageRank is a link analysis algorithm and it assigns a numerical weighting to each element of a hyperlinked set of documents, such as the World Wide Web, with the purpose of \"measuring\" its relative importance within the set. The algorithm may be applied to any collection of entities with reciprocal quotations and references. \n",
    "\n",
    "https://en.wikipedia.org/wiki/PageRank#:~:text=PageRank%20(PR)%20is%20an%20algorithm,the%20importance%20of%20website%20pages.\n",
    "https://www.geeksforgeeks.org/page-rank-algorithm-implementation/"
   ]
  },
  {
   "cell_type": "code",
   "execution_count": 8,
   "id": "518514e2",
   "metadata": {
    "pycharm": {
     "name": "#%%\n"
    }
   },
   "outputs": [],
   "source": [
    "Page_rank=nx.pagerank(train_graph)\n"
   ]
  },
  {
   "cell_type": "code",
   "execution_count": null,
   "id": "4b5e58b9",
   "metadata": {
    "pycharm": {
     "name": "#%%\n"
    }
   },
   "outputs": [],
   "source": []
  },
  {
   "cell_type": "code",
   "execution_count": 9,
   "id": "f53b84aa",
   "metadata": {
    "pycharm": {
     "name": "#%%\n"
    }
   },
   "outputs": [],
   "source": [
    "mean_page_rank=sum(Page_rank.values()) / len(Page_rank)"
   ]
  },
  {
   "cell_type": "markdown",
   "id": "f151d0fe",
   "metadata": {
    "pycharm": {
     "name": "#%% md\n"
    }
   },
   "source": [
    "### Shortest Path\n",
    "##### Getting shortest path between two nodes, if nodes have direct path i.e directly connected then we are removing that edge and calculating path."
   ]
  },
  {
   "cell_type": "code",
   "execution_count": 49,
   "id": "edb57394",
   "metadata": {
    "pycharm": {
     "name": "#%%\n"
    }
   },
   "outputs": [],
   "source": [
    "def Compute_shortest_path_length(a,b):\n",
    "    p=-1\n",
    "    try:\n",
    "        if train_graph.has_edge(a,b):\n",
    "            train_graph.remove_edge(a,b)\n",
    "            p=nx.shortest_path_length(train_graph,source=a,target=b)\n",
    "            train_graph.add_edge(a,b)\n",
    "        else:\n",
    "            p=nx.shortest_path_length(train_graph,source=a,target=b)\n",
    "        return p\n",
    "    except:\n",
    "        return -1\n",
    "    "
   ]
  },
  {
   "cell_type": "code",
   "execution_count": 50,
   "id": "d4bec961",
   "metadata": {
    "scrolled": true,
    "pycharm": {
     "name": "#%%\n"
    }
   },
   "outputs": [
    {
     "data": {
      "text/plain": [
       "8"
      ]
     },
     "execution_count": 50,
     "metadata": {},
     "output_type": "execute_result"
    }
   ],
   "source": [
    "Compute_shortest_path_length(1, 12)"
   ]
  },
  {
   "cell_type": "markdown",
   "id": "630ce4cb",
   "metadata": {
    "pycharm": {
     "name": "#%% md\n"
    }
   },
   "source": [
    "### Checking for same community"
   ]
  },
  {
   "cell_type": "code",
   "execution_count": 11,
   "id": "3973b02c",
   "metadata": {
    "pycharm": {
     "name": "#%%\n"
    }
   },
   "outputs": [],
   "source": [
    "wcc=list(nx.weakly_connected_components(train_graph))\n",
    "def Belongs_to_same_wcc(a,b):\n",
    "    index=[]\n",
    "    \n",
    "    if train_graph.has_edge(b,a):\n",
    "        return 1\n",
    "    if train_graph.has_edge(a,b):\n",
    "        for i in wcc:\n",
    "            if a in i:\n",
    "                index=i\n",
    "                break\n",
    "        if b in index:\n",
    "            train_graph.remove_edge(a,b)\n",
    "            if Compute_shortest_path_length(a,b)==1:\n",
    "                train_graph.add_edge(a,b)\n",
    "                return 0\n",
    "            else:\n",
    "                train_graph.add_edge(a,b)\n",
    "                return 1\n",
    "        else:\n",
    "            return 0\n",
    "    else:\n",
    "        for i in wcc:\n",
    "            if a in i:\n",
    "                index=i\n",
    "                break\n",
    "        if (b in index):\n",
    "            return 1\n",
    "        else:\n",
    "            return 0"
   ]
  },
  {
   "cell_type": "code",
   "execution_count": 12,
   "id": "c3e18bf2",
   "metadata": {
    "pycharm": {
     "name": "#%%\n"
    }
   },
   "outputs": [
    {
     "data": {
      "text/plain": [
       "1"
      ]
     },
     "execution_count": 12,
     "metadata": {},
     "output_type": "execute_result"
    }
   ],
   "source": [
    "Belongs_to_same_wcc(861, 1659750)\n"
   ]
  },
  {
   "cell_type": "code",
   "execution_count": 13,
   "id": "e53b42d2",
   "metadata": {
    "pycharm": {
     "name": "#%%\n"
    }
   },
   "outputs": [
    {
     "data": {
      "text/plain": [
       "0"
      ]
     },
     "execution_count": 13,
     "metadata": {},
     "output_type": "execute_result"
    }
   ],
   "source": [
    "Belongs_to_same_wcc(669354,1635354)"
   ]
  },
  {
   "cell_type": "markdown",
   "id": "df360ae3",
   "metadata": {
    "pycharm": {
     "name": "#%% md\n"
    }
   },
   "source": [
    "## Adamic /Adar Index:\n",
    "#### Adamic/Adar measures is defined as inverted sum of degrees of common neighbours for given two vertices.\n",
    "$$A(x,y)=\\sum_{u \\in N(x) \\cap N(y)}\\frac{1}{log(|N(u)|)}$$\n",
    "\n",
    "https://en.wikipedia.org/wiki/Adamic%E2%80%93Adar_index"
   ]
  },
  {
   "cell_type": "code",
   "execution_count": 14,
   "id": "3116ad74",
   "metadata": {
    "pycharm": {
     "name": "#%%\n"
    }
   },
   "outputs": [],
   "source": [
    "def calc_adar_in(a,b):\n",
    "    sum=0\n",
    "    try:\n",
    "        n=list(set(train_graph.successors(a)).intersection(set(train_graph.successors(b))))\n",
    "        if len(n)!=0:\n",
    "            for i in n:\n",
    "                sum=sum+(1/np.log10(len(list(train_graph.predecessors(i)))))\n",
    "            return sum\n",
    "        else:\n",
    "            return 0\n",
    "    except:\n",
    "        return 0"
   ]
  },
  {
   "cell_type": "code",
   "execution_count": 15,
   "id": "9eebbc4d",
   "metadata": {
    "pycharm": {
     "name": "#%%\n"
    }
   },
   "outputs": [
    {
     "data": {
      "text/plain": [
       "0"
      ]
     },
     "execution_count": 15,
     "metadata": {},
     "output_type": "execute_result"
    }
   ],
   "source": [
    "calc_adar_in(1635354,669354)"
   ]
  },
  {
   "cell_type": "markdown",
   "id": "e433328d",
   "metadata": {
    "pycharm": {
     "name": "#%% md\n"
    }
   },
   "source": [
    "## Is person was following back"
   ]
  },
  {
   "cell_type": "code",
   "execution_count": 16,
   "id": "505b4b0c",
   "metadata": {
    "pycharm": {
     "name": "#%%\n"
    }
   },
   "outputs": [],
   "source": [
    "def Follows_back(a,b):\n",
    "    if train_graph.has_edge(b,a):\n",
    "        return 1\n",
    "    else:\n",
    "        return 0"
   ]
  },
  {
   "cell_type": "code",
   "execution_count": 17,
   "id": "fa6a9eee",
   "metadata": {
    "pycharm": {
     "name": "#%%\n"
    }
   },
   "outputs": [
    {
     "data": {
      "text/plain": [
       "1"
      ]
     },
     "execution_count": 17,
     "metadata": {},
     "output_type": "execute_result"
    }
   ],
   "source": [
    "Follows_back(1,189226)"
   ]
  },
  {
   "cell_type": "markdown",
   "id": "5aec1936",
   "metadata": {
    "pycharm": {
     "name": "#%% md\n"
    }
   },
   "source": [
    "## Katz Centrality:\n",
    "https://en.wikipedia.org/wiki/Katz_centrality\n",
    "\n",
    "https://www.geeksforgeeks.org/katz-centrality-centrality-measure/\n",
    "\n",
    "#### In graph theory, the Katz centrality of a node is a measure of centrality in a network. It was introduced by Leo Katz in 1953 and is used to measure the relative degree of influence of an actor (or node) within a social network. Unlike typical centrality measures which consider only the shortest path (the geodesic) between a pair of actors, Katz centrality measures influence by taking into account the total number of walks between a pair of actors. \n",
    " \n",
    " $$x_i = \\alpha \\sum_{j} A_{ij} x_j + \\beta,$$\n",
    "where `A` is the adjacency matrix of the graph G \n",
    "with eigenvalues $$\\lambda$$.\n",
    "\n",
    "\n",
    "\n",
    "#### The parameter $$\\beta$$ \n",
    "##### controls the initial centrality and \n",
    "\n",
    "$$\\alpha < \\frac{1}{\\lambda_{max}}.$$\n"
   ]
  },
  {
   "cell_type": "code",
   "execution_count": 18,
   "id": "9186d172",
   "metadata": {
    "pycharm": {
     "name": "#%%\n"
    }
   },
   "outputs": [],
   "source": [
    "Katz=nx.katz.katz_centrality(train_graph,alpha=0.005,beta=1)\n",
    "pickle.dump(Katz,open('katz.p','wb'))"
   ]
  },
  {
   "cell_type": "code",
   "execution_count": 19,
   "id": "e23eb169",
   "metadata": {
    "pycharm": {
     "name": "#%%\n"
    }
   },
   "outputs": [
    {
     "name": "stdout",
     "output_type": "stream",
     "text": [
      "min 0.0007313499427279523\n",
      "max 0.003391026125720957\n",
      "mean 0.0007483743015672631\n",
      "0.0007313499427279523\n"
     ]
    }
   ],
   "source": [
    "print('min',Katz[min(Katz, key=Katz.get)])\n",
    "print('max',Katz[max(Katz, key=Katz.get)])\n",
    "print('mean',float(sum(Katz.values())) / len(Katz))\n",
    "mean_katz=float(sum(Katz.values())) / len(Katz)\n",
    "print(Katz[20])"
   ]
  },
  {
   "cell_type": "markdown",
   "id": "a02a2250",
   "metadata": {
    "pycharm": {
     "name": "#%% md\n"
    }
   },
   "source": [
    "## Hits Score\n",
    "\n",
    "##### Hyperlink Induced Topic Search (HITS) Algorithm is a Link Analysis Algorithm that rates webpages, developed by Jon Kleinberg. This algorithm is used to the web link-structures to discover and rank the webpages relevant for a particular search. HITS uses hubs and authorities to define a recursive relationship between webpages. Before understanding the HITS Algorithm, we first need to know about Hubs and Authorities.\n",
    "\n",
    "https://www.geeksforgeeks.org/hyperlink-induced-topic-search-hits-algorithm-using-networxx-module-python/\n",
    "\n",
    "https://en.wikipedia.org/wiki/HITS_algorithm"
   ]
  },
  {
   "cell_type": "code",
   "execution_count": 20,
   "id": "48cc5371",
   "metadata": {
    "pycharm": {
     "name": "#%%\n"
    }
   },
   "outputs": [
    {
     "name": "stderr",
     "output_type": "stream",
     "text": [
      "C:\\Users\\Admin\\anaconda3\\lib\\site-packages\\networkx\\algorithms\\link_analysis\\hits_alg.py:78: FutureWarning: adjacency_matrix will return a scipy.sparse array instead of a matrix in Networkx 3.0.\n",
      "  A = nx.adjacency_matrix(G, nodelist=list(G), dtype=float)\n"
     ]
    }
   ],
   "source": [
    "Hits = nx.hits(train_graph, max_iter=100, tol=1e-08, nstart=None, normalized=True)\n",
    "pickle.dump(Hits,open('hits.p','wb'))"
   ]
  },
  {
   "cell_type": "code",
   "execution_count": 21,
   "id": "9063e8cf",
   "metadata": {
    "pycharm": {
     "name": "#%%\n"
    }
   },
   "outputs": [
    {
     "name": "stdout",
     "output_type": "stream",
     "text": [
      "min -1.894105040621504e-20\n",
      "max 0.004768353601532135\n",
      "mean 5.615554637072843e-07\n",
      "1.4528404834713936e-16\n"
     ]
    }
   ],
   "source": [
    "print('min',Hits[0][min(Hits[0], key=Hits[0].get)])\n",
    "print('max',Hits[0][max(Hits[0], key=Hits[0].get)])\n",
    "print('mean',float(sum(Hits[0].values())) / len(Hits[0]))\n",
    "mean_hits=float(sum(Hits[0].values())) / len(Hits[0])\n",
    "\n",
    "print(Hits[0].get(1000))"
   ]
  },
  {
   "cell_type": "markdown",
   "id": "518ce1b6",
   "metadata": {
    "pycharm": {
     "name": "#%% md\n"
    }
   },
   "source": [
    "## Featurization\n",
    "\n"
   ]
  },
  {
   "cell_type": "code",
   "execution_count": 22,
   "id": "312cf081",
   "metadata": {
    "pycharm": {
     "name": "#%%\n"
    }
   },
   "outputs": [
    {
     "data": {
      "text/html": [
       "<div>\n",
       "<style scoped>\n",
       "    .dataframe tbody tr th:only-of-type {\n",
       "        vertical-align: middle;\n",
       "    }\n",
       "\n",
       "    .dataframe tbody tr th {\n",
       "        vertical-align: top;\n",
       "    }\n",
       "\n",
       "    .dataframe thead th {\n",
       "        text-align: right;\n",
       "    }\n",
       "</style>\n",
       "<table border=\"1\" class=\"dataframe\">\n",
       "  <thead>\n",
       "    <tr style=\"text-align: right;\">\n",
       "      <th></th>\n",
       "      <th>source_node</th>\n",
       "      <th>destination_node</th>\n",
       "      <th>indicator_link</th>\n",
       "    </tr>\n",
       "  </thead>\n",
       "  <tbody>\n",
       "    <tr>\n",
       "      <th>0</th>\n",
       "      <td>1443525</td>\n",
       "      <td>1177229</td>\n",
       "      <td>1</td>\n",
       "    </tr>\n",
       "    <tr>\n",
       "      <th>1</th>\n",
       "      <td>582845</td>\n",
       "      <td>818904</td>\n",
       "      <td>1</td>\n",
       "    </tr>\n",
       "    <tr>\n",
       "      <th>2</th>\n",
       "      <td>764111</td>\n",
       "      <td>1729045</td>\n",
       "      <td>1</td>\n",
       "    </tr>\n",
       "    <tr>\n",
       "      <th>3</th>\n",
       "      <td>499479</td>\n",
       "      <td>828225</td>\n",
       "      <td>1</td>\n",
       "    </tr>\n",
       "    <tr>\n",
       "      <th>4</th>\n",
       "      <td>182676</td>\n",
       "      <td>1647409</td>\n",
       "      <td>1</td>\n",
       "    </tr>\n",
       "  </tbody>\n",
       "</table>\n",
       "</div>"
      ],
      "text/plain": [
       "   source_node  destination_node  indicator_link\n",
       "0      1443525           1177229               1\n",
       "1       582845            818904               1\n",
       "2       764111           1729045               1\n",
       "3       499479            828225               1\n",
       "4       182676           1647409               1"
      ]
     },
     "execution_count": 22,
     "metadata": {},
     "output_type": "execute_result"
    }
   ],
   "source": [
    "df_train=pd.read_csv('train_after_eda.csv',names=['source_node', 'destination_node'])\n",
    "df_train['indicator_link']=pd.read_csv('train_y.csv',names=['indicator_link'])\n",
    "\n",
    "df_train.head()\n"
   ]
  },
  {
   "cell_type": "code",
   "execution_count": 23,
   "id": "f0b3e787",
   "metadata": {
    "pycharm": {
     "name": "#%%\n"
    }
   },
   "outputs": [],
   "source": [
    "df_test=pd.read_csv('test_after_eda.csv',names=['source_node','destination_node'])\n",
    "df_test['indicator_link']=pd.read_csv('test_y.csv',names=['indicator_link'])"
   ]
  },
  {
   "cell_type": "code",
   "execution_count": 24,
   "id": "fcc6777c",
   "metadata": {
    "pycharm": {
     "name": "#%%\n"
    }
   },
   "outputs": [
    {
     "data": {
      "text/html": [
       "<div>\n",
       "<style scoped>\n",
       "    .dataframe tbody tr th:only-of-type {\n",
       "        vertical-align: middle;\n",
       "    }\n",
       "\n",
       "    .dataframe tbody tr th {\n",
       "        vertical-align: top;\n",
       "    }\n",
       "\n",
       "    .dataframe thead th {\n",
       "        text-align: right;\n",
       "    }\n",
       "</style>\n",
       "<table border=\"1\" class=\"dataframe\">\n",
       "  <thead>\n",
       "    <tr style=\"text-align: right;\">\n",
       "      <th></th>\n",
       "      <th>source_node</th>\n",
       "      <th>destination_node</th>\n",
       "      <th>indicator_link</th>\n",
       "    </tr>\n",
       "  </thead>\n",
       "  <tbody>\n",
       "    <tr>\n",
       "      <th>0</th>\n",
       "      <td>925781</td>\n",
       "      <td>744483</td>\n",
       "      <td>1</td>\n",
       "    </tr>\n",
       "    <tr>\n",
       "      <th>1</th>\n",
       "      <td>1047516</td>\n",
       "      <td>1767158</td>\n",
       "      <td>1</td>\n",
       "    </tr>\n",
       "    <tr>\n",
       "      <th>2</th>\n",
       "      <td>1123446</td>\n",
       "      <td>798286</td>\n",
       "      <td>1</td>\n",
       "    </tr>\n",
       "    <tr>\n",
       "      <th>3</th>\n",
       "      <td>1093801</td>\n",
       "      <td>936448</td>\n",
       "      <td>1</td>\n",
       "    </tr>\n",
       "    <tr>\n",
       "      <th>4</th>\n",
       "      <td>1667658</td>\n",
       "      <td>649427</td>\n",
       "      <td>1</td>\n",
       "    </tr>\n",
       "  </tbody>\n",
       "</table>\n",
       "</div>"
      ],
      "text/plain": [
       "   source_node  destination_node  indicator_link\n",
       "0       925781            744483               1\n",
       "1      1047516           1767158               1\n",
       "2      1123446            798286               1\n",
       "3      1093801            936448               1\n",
       "4      1667658            649427               1"
      ]
     },
     "execution_count": 24,
     "metadata": {},
     "output_type": "execute_result"
    }
   ],
   "source": [
    "df_test.head()"
   ]
  },
  {
   "cell_type": "markdown",
   "id": "fcdbbb36",
   "metadata": {
    "pycharm": {
     "name": "#%% md\n"
    }
   },
   "source": [
    "##### num followers_s : number of followers source node have \n",
    "##### num followees_s: number of followees source node have\n",
    "##### num followers_d: number of followers destination node have\n",
    "##### num followees_d: number of followees destination node have\n",
    "\n",
    "###### inter_followers: intersection of followers between source and destination\n",
    "###### inter_followees: intersection of followees between source and destination"
   ]
  },
  {
   "cell_type": "code",
   "execution_count": 25,
   "id": "4aaf7186",
   "metadata": {
    "pycharm": {
     "name": "#%%\n"
    }
   },
   "outputs": [],
   "source": [
    "\n",
    "def compute_features_stage1(df_final):\n",
    "    num_followers_s=[]\n",
    "    num_followees_s=[]\n",
    "    num_followers_d=[]\n",
    "    num_followees_d=[]\n",
    "    inter_followers=[]\n",
    "    \n",
    "    inter_followees=[]\n",
    "    for i,row in tqdm(df_final.iterrows()):\n",
    "        try:\n",
    "            s1=set(train_graph.predecessors(row['source_node']))\n",
    "            s2=set(train_graph.successors(row['source_node']))\n",
    "        except:\n",
    "            s1=set()\n",
    "            s2=set()\n",
    "        try:\n",
    "            d1=set(train_graph.predecessors(row['desination_node']))\n",
    "            d2=set(train_graph.successors(row['destiantion_node']))\n",
    "        except:\n",
    "            d1=set()\n",
    "            d2=set()\n",
    "        num_followers_s.append(len(s1))\n",
    "        num_followees_s.append(len(s2))\n",
    "        num_followers_d.append(len(d1))\n",
    "        num_followees_d.append(len(d2))\n",
    "        inter_followers.append(len(s1.intersection(d1)))\n",
    "        inter_followees.append(len(s2.intersection(d2)))\n",
    "    return  num_followers_s,num_followees_s,num_followers_d,num_followees_d,inter_followers,inter_followees"
   ]
  },
  {
   "cell_type": "code",
   "execution_count": 26,
   "id": "96f6ea41",
   "metadata": {
    "scrolled": true,
    "pycharm": {
     "name": "#%%\n"
    }
   },
   "outputs": [
    {
     "name": "stderr",
     "output_type": "stream",
     "text": [
      "15099763it [12:11, 20652.73it/s]\n",
      "3774942it [02:57, 21242.37it/s]\n"
     ]
    }
   ],
   "source": [
    "    df_train['num_followers_s'], df_train['num_followers_d'], \\\n",
    "    df_train['num_followees_s'], df_train['num_followees_d'], \\\n",
    "    df_train['inter_followers'], df_train['inter_followees']= compute_features_stage1(df_train)\n",
    "    df_test['num_followers_s'], df_test['num_followers_d'], \\\n",
    "    df_test['num_followees_s'], df_test['num_followees_d'], \\\n",
    "    df_test['inter_followers'], df_test['inter_followees']= compute_features_stage1(df_test)\n",
    "    "
   ]
  },
  {
   "cell_type": "code",
   "execution_count": 27,
   "id": "f7afde35",
   "metadata": {
    "pycharm": {
     "name": "#%%\n"
    }
   },
   "outputs": [
    {
     "data": {
      "text/html": [
       "<div>\n",
       "<style scoped>\n",
       "    .dataframe tbody tr th:only-of-type {\n",
       "        vertical-align: middle;\n",
       "    }\n",
       "\n",
       "    .dataframe tbody tr th {\n",
       "        vertical-align: top;\n",
       "    }\n",
       "\n",
       "    .dataframe thead th {\n",
       "        text-align: right;\n",
       "    }\n",
       "</style>\n",
       "<table border=\"1\" class=\"dataframe\">\n",
       "  <thead>\n",
       "    <tr style=\"text-align: right;\">\n",
       "      <th></th>\n",
       "      <th>source_node</th>\n",
       "      <th>destination_node</th>\n",
       "      <th>indicator_link</th>\n",
       "      <th>num_followers_s</th>\n",
       "      <th>num_followers_d</th>\n",
       "      <th>num_followees_s</th>\n",
       "      <th>num_followees_d</th>\n",
       "      <th>inter_followers</th>\n",
       "      <th>inter_followees</th>\n",
       "    </tr>\n",
       "  </thead>\n",
       "  <tbody>\n",
       "    <tr>\n",
       "      <th>0</th>\n",
       "      <td>925781</td>\n",
       "      <td>744483</td>\n",
       "      <td>1</td>\n",
       "      <td>8</td>\n",
       "      <td>8</td>\n",
       "      <td>0</td>\n",
       "      <td>0</td>\n",
       "      <td>0</td>\n",
       "      <td>0</td>\n",
       "    </tr>\n",
       "    <tr>\n",
       "      <th>1</th>\n",
       "      <td>1047516</td>\n",
       "      <td>1767158</td>\n",
       "      <td>1</td>\n",
       "      <td>23</td>\n",
       "      <td>18</td>\n",
       "      <td>0</td>\n",
       "      <td>0</td>\n",
       "      <td>0</td>\n",
       "      <td>0</td>\n",
       "    </tr>\n",
       "    <tr>\n",
       "      <th>2</th>\n",
       "      <td>1123446</td>\n",
       "      <td>798286</td>\n",
       "      <td>1</td>\n",
       "      <td>11</td>\n",
       "      <td>15</td>\n",
       "      <td>0</td>\n",
       "      <td>0</td>\n",
       "      <td>0</td>\n",
       "      <td>0</td>\n",
       "    </tr>\n",
       "    <tr>\n",
       "      <th>3</th>\n",
       "      <td>1093801</td>\n",
       "      <td>936448</td>\n",
       "      <td>1</td>\n",
       "      <td>2</td>\n",
       "      <td>2</td>\n",
       "      <td>0</td>\n",
       "      <td>0</td>\n",
       "      <td>0</td>\n",
       "      <td>0</td>\n",
       "    </tr>\n",
       "    <tr>\n",
       "      <th>4</th>\n",
       "      <td>1667658</td>\n",
       "      <td>649427</td>\n",
       "      <td>1</td>\n",
       "      <td>48</td>\n",
       "      <td>19</td>\n",
       "      <td>0</td>\n",
       "      <td>0</td>\n",
       "      <td>0</td>\n",
       "      <td>0</td>\n",
       "    </tr>\n",
       "  </tbody>\n",
       "</table>\n",
       "</div>"
      ],
      "text/plain": [
       "   source_node  destination_node  indicator_link  num_followers_s  \\\n",
       "0       925781            744483               1                8   \n",
       "1      1047516           1767158               1               23   \n",
       "2      1123446            798286               1               11   \n",
       "3      1093801            936448               1                2   \n",
       "4      1667658            649427               1               48   \n",
       "\n",
       "   num_followers_d  num_followees_s  num_followees_d  inter_followers  \\\n",
       "0                8                0                0                0   \n",
       "1               18                0                0                0   \n",
       "2               15                0                0                0   \n",
       "3                2                0                0                0   \n",
       "4               19                0                0                0   \n",
       "\n",
       "   inter_followees  \n",
       "0                0  \n",
       "1                0  \n",
       "2                0  \n",
       "3                0  \n",
       "4                0  "
      ]
     },
     "execution_count": 27,
     "metadata": {},
     "output_type": "execute_result"
    }
   ],
   "source": [
    "df_test.head()\n"
   ]
  },
  {
   "cell_type": "code",
   "execution_count": 28,
   "id": "960ecc2a",
   "metadata": {
    "scrolled": true,
    "pycharm": {
     "name": "#%%\n"
    }
   },
   "outputs": [
    {
     "data": {
      "text/html": [
       "<div>\n",
       "<style scoped>\n",
       "    .dataframe tbody tr th:only-of-type {\n",
       "        vertical-align: middle;\n",
       "    }\n",
       "\n",
       "    .dataframe tbody tr th {\n",
       "        vertical-align: top;\n",
       "    }\n",
       "\n",
       "    .dataframe thead th {\n",
       "        text-align: right;\n",
       "    }\n",
       "</style>\n",
       "<table border=\"1\" class=\"dataframe\">\n",
       "  <thead>\n",
       "    <tr style=\"text-align: right;\">\n",
       "      <th></th>\n",
       "      <th>source_node</th>\n",
       "      <th>destination_node</th>\n",
       "      <th>indicator_link</th>\n",
       "      <th>num_followers_s</th>\n",
       "      <th>num_followers_d</th>\n",
       "      <th>num_followees_s</th>\n",
       "      <th>num_followees_d</th>\n",
       "      <th>inter_followers</th>\n",
       "      <th>inter_followees</th>\n",
       "    </tr>\n",
       "  </thead>\n",
       "  <tbody>\n",
       "    <tr>\n",
       "      <th>0</th>\n",
       "      <td>1443525</td>\n",
       "      <td>1177229</td>\n",
       "      <td>1</td>\n",
       "      <td>37</td>\n",
       "      <td>11</td>\n",
       "      <td>0</td>\n",
       "      <td>0</td>\n",
       "      <td>0</td>\n",
       "      <td>0</td>\n",
       "    </tr>\n",
       "    <tr>\n",
       "      <th>1</th>\n",
       "      <td>582845</td>\n",
       "      <td>818904</td>\n",
       "      <td>1</td>\n",
       "      <td>4</td>\n",
       "      <td>2</td>\n",
       "      <td>0</td>\n",
       "      <td>0</td>\n",
       "      <td>0</td>\n",
       "      <td>0</td>\n",
       "    </tr>\n",
       "    <tr>\n",
       "      <th>2</th>\n",
       "      <td>764111</td>\n",
       "      <td>1729045</td>\n",
       "      <td>1</td>\n",
       "      <td>20</td>\n",
       "      <td>23</td>\n",
       "      <td>0</td>\n",
       "      <td>0</td>\n",
       "      <td>0</td>\n",
       "      <td>0</td>\n",
       "    </tr>\n",
       "    <tr>\n",
       "      <th>3</th>\n",
       "      <td>499479</td>\n",
       "      <td>828225</td>\n",
       "      <td>1</td>\n",
       "      <td>0</td>\n",
       "      <td>2</td>\n",
       "      <td>0</td>\n",
       "      <td>0</td>\n",
       "      <td>0</td>\n",
       "      <td>0</td>\n",
       "    </tr>\n",
       "    <tr>\n",
       "      <th>4</th>\n",
       "      <td>182676</td>\n",
       "      <td>1647409</td>\n",
       "      <td>1</td>\n",
       "      <td>10</td>\n",
       "      <td>22</td>\n",
       "      <td>0</td>\n",
       "      <td>0</td>\n",
       "      <td>0</td>\n",
       "      <td>0</td>\n",
       "    </tr>\n",
       "  </tbody>\n",
       "</table>\n",
       "</div>"
      ],
      "text/plain": [
       "   source_node  destination_node  indicator_link  num_followers_s  \\\n",
       "0      1443525           1177229               1               37   \n",
       "1       582845            818904               1                4   \n",
       "2       764111           1729045               1               20   \n",
       "3       499479            828225               1                0   \n",
       "4       182676           1647409               1               10   \n",
       "\n",
       "   num_followers_d  num_followees_s  num_followees_d  inter_followers  \\\n",
       "0               11                0                0                0   \n",
       "1                2                0                0                0   \n",
       "2               23                0                0                0   \n",
       "3                2                0                0                0   \n",
       "4               22                0                0                0   \n",
       "\n",
       "   inter_followees  \n",
       "0                0  \n",
       "1                0  \n",
       "2                0  \n",
       "3                0  \n",
       "4                0  "
      ]
     },
     "execution_count": 28,
     "metadata": {},
     "output_type": "execute_result"
    }
   ],
   "source": [
    "df_train.head()"
   ]
  },
  {
   "cell_type": "markdown",
   "id": "113a4310",
   "metadata": {
    "pycharm": {
     "name": "#%% md\n"
    }
   },
   "source": [
    "### Adding all the features to the dataframe"
   ]
  },
  {
   "cell_type": "code",
   "execution_count": 29,
   "id": "b6dc34f5",
   "metadata": {
    "pycharm": {
     "name": "#%%\n"
    }
   },
   "outputs": [],
   "source": [
    "def compute_features_stage2(dft):\n",
    "\n",
    "    page_rank_s=[]\n",
    "    page_rank_d=[]\n",
    "   \n",
    "    katz_s=[]\n",
    "    katz_d=[]\n",
    "    hits_s=[]\n",
    "    hits_d=[]\n",
    "    \n",
    "    for i,row in tqdm(dft.iterrows()):\n",
    "       \n",
    "        page_rank_s.append(Page_rank.get(row['source_node'],mean_page_rank))\n",
    "        page_rank_d.append(Page_rank.get(row['destination_node'],mean_page_rank))\n",
    "        katz_s.append(Katz.get(row['source_node'],mean_katz))\n",
    "        katz_d.append(Katz.get(row['destination_node'],mean_katz))\n",
    "        hits_s.append(Hits[0].get(row['source_node'],mean_hits))\n",
    "        hits_d.append(Hits[0].get(row['destination_node'],mean_hits))\n",
    "        \n",
    "   \n",
    "       \n",
    "    return page_rank_s,page_rank_d,katz_s,katz_d,hits_s,hits_d"
   ]
  },
  {
   "cell_type": "code",
   "execution_count": 30,
   "id": "070cd60a",
   "metadata": {
    "pycharm": {
     "name": "#%%\n"
    }
   },
   "outputs": [
    {
     "name": "stderr",
     "output_type": "stream",
     "text": [
      "15099763it [12:55, 19476.05it/s]\n"
     ]
    }
   ],
   "source": [
    "\n",
    "df_train['page_rank_s'],df_train['page_rank_d'],\\\n",
    "df_train['katz_s'],df_train['katz_d'],df_train['hits_s'],df_train['hits_d']=compute_features_stage2(df_train)"
   ]
  },
  {
   "cell_type": "code",
   "execution_count": 31,
   "id": "0b301edf",
   "metadata": {
    "pycharm": {
     "name": "#%%\n"
    }
   },
   "outputs": [
    {
     "name": "stdout",
     "output_type": "stream",
     "text": [
      "(15099763, 15)\n"
     ]
    },
    {
     "data": {
      "text/html": [
       "<div>\n",
       "<style scoped>\n",
       "    .dataframe tbody tr th:only-of-type {\n",
       "        vertical-align: middle;\n",
       "    }\n",
       "\n",
       "    .dataframe tbody tr th {\n",
       "        vertical-align: top;\n",
       "    }\n",
       "\n",
       "    .dataframe thead th {\n",
       "        text-align: right;\n",
       "    }\n",
       "</style>\n",
       "<table border=\"1\" class=\"dataframe\">\n",
       "  <thead>\n",
       "    <tr style=\"text-align: right;\">\n",
       "      <th></th>\n",
       "      <th>source_node</th>\n",
       "      <th>destination_node</th>\n",
       "      <th>indicator_link</th>\n",
       "      <th>num_followers_s</th>\n",
       "      <th>num_followers_d</th>\n",
       "      <th>num_followees_s</th>\n",
       "      <th>num_followees_d</th>\n",
       "      <th>inter_followers</th>\n",
       "      <th>inter_followees</th>\n",
       "      <th>page_rank_s</th>\n",
       "      <th>page_rank_d</th>\n",
       "      <th>katz_s</th>\n",
       "      <th>katz_d</th>\n",
       "      <th>hits_s</th>\n",
       "      <th>hits_d</th>\n",
       "    </tr>\n",
       "  </thead>\n",
       "  <tbody>\n",
       "    <tr>\n",
       "      <th>0</th>\n",
       "      <td>1443525</td>\n",
       "      <td>1177229</td>\n",
       "      <td>1</td>\n",
       "      <td>37</td>\n",
       "      <td>11</td>\n",
       "      <td>0</td>\n",
       "      <td>0</td>\n",
       "      <td>0</td>\n",
       "      <td>0</td>\n",
       "      <td>1.850118e-06</td>\n",
       "      <td>1.756390e-06</td>\n",
       "      <td>0.000883</td>\n",
       "      <td>0.000874</td>\n",
       "      <td>9.536818e-13</td>\n",
       "      <td>4.565034e-11</td>\n",
       "    </tr>\n",
       "    <tr>\n",
       "      <th>1</th>\n",
       "      <td>582845</td>\n",
       "      <td>818904</td>\n",
       "      <td>1</td>\n",
       "      <td>4</td>\n",
       "      <td>2</td>\n",
       "      <td>0</td>\n",
       "      <td>0</td>\n",
       "      <td>0</td>\n",
       "      <td>0</td>\n",
       "      <td>7.622485e-07</td>\n",
       "      <td>1.222512e-06</td>\n",
       "      <td>0.000746</td>\n",
       "      <td>0.000785</td>\n",
       "      <td>2.834183e-17</td>\n",
       "      <td>9.197072e-14</td>\n",
       "    </tr>\n",
       "    <tr>\n",
       "      <th>2</th>\n",
       "      <td>764111</td>\n",
       "      <td>1729045</td>\n",
       "      <td>1</td>\n",
       "      <td>20</td>\n",
       "      <td>23</td>\n",
       "      <td>0</td>\n",
       "      <td>0</td>\n",
       "      <td>0</td>\n",
       "      <td>0</td>\n",
       "      <td>2.882923e-06</td>\n",
       "      <td>8.497469e-07</td>\n",
       "      <td>0.000810</td>\n",
       "      <td>0.000800</td>\n",
       "      <td>1.558661e-13</td>\n",
       "      <td>1.139772e-14</td>\n",
       "    </tr>\n",
       "    <tr>\n",
       "      <th>3</th>\n",
       "      <td>499479</td>\n",
       "      <td>828225</td>\n",
       "      <td>1</td>\n",
       "      <td>0</td>\n",
       "      <td>2</td>\n",
       "      <td>0</td>\n",
       "      <td>0</td>\n",
       "      <td>0</td>\n",
       "      <td>0</td>\n",
       "      <td>1.655959e-07</td>\n",
       "      <td>6.110965e-07</td>\n",
       "      <td>0.000731</td>\n",
       "      <td>0.000743</td>\n",
       "      <td>3.075192e-17</td>\n",
       "      <td>1.289906e-15</td>\n",
       "    </tr>\n",
       "    <tr>\n",
       "      <th>4</th>\n",
       "      <td>182676</td>\n",
       "      <td>1647409</td>\n",
       "      <td>1</td>\n",
       "      <td>10</td>\n",
       "      <td>22</td>\n",
       "      <td>0</td>\n",
       "      <td>0</td>\n",
       "      <td>0</td>\n",
       "      <td>0</td>\n",
       "      <td>4.898329e-07</td>\n",
       "      <td>3.031131e-07</td>\n",
       "      <td>0.000770</td>\n",
       "      <td>0.000751</td>\n",
       "      <td>5.601692e-09</td>\n",
       "      <td>1.093959e-11</td>\n",
       "    </tr>\n",
       "  </tbody>\n",
       "</table>\n",
       "</div>"
      ],
      "text/plain": [
       "   source_node  destination_node  indicator_link  num_followers_s  \\\n",
       "0      1443525           1177229               1               37   \n",
       "1       582845            818904               1                4   \n",
       "2       764111           1729045               1               20   \n",
       "3       499479            828225               1                0   \n",
       "4       182676           1647409               1               10   \n",
       "\n",
       "   num_followers_d  num_followees_s  num_followees_d  inter_followers  \\\n",
       "0               11                0                0                0   \n",
       "1                2                0                0                0   \n",
       "2               23                0                0                0   \n",
       "3                2                0                0                0   \n",
       "4               22                0                0                0   \n",
       "\n",
       "   inter_followees   page_rank_s   page_rank_d    katz_s    katz_d  \\\n",
       "0                0  1.850118e-06  1.756390e-06  0.000883  0.000874   \n",
       "1                0  7.622485e-07  1.222512e-06  0.000746  0.000785   \n",
       "2                0  2.882923e-06  8.497469e-07  0.000810  0.000800   \n",
       "3                0  1.655959e-07  6.110965e-07  0.000731  0.000743   \n",
       "4                0  4.898329e-07  3.031131e-07  0.000770  0.000751   \n",
       "\n",
       "         hits_s        hits_d  \n",
       "0  9.536818e-13  4.565034e-11  \n",
       "1  2.834183e-17  9.197072e-14  \n",
       "2  1.558661e-13  1.139772e-14  \n",
       "3  3.075192e-17  1.289906e-15  \n",
       "4  5.601692e-09  1.093959e-11  "
      ]
     },
     "execution_count": 31,
     "metadata": {},
     "output_type": "execute_result"
    }
   ],
   "source": [
    "print(df_train.shape)\n",
    "df_train.head()\n"
   ]
  },
  {
   "cell_type": "code",
   "execution_count": 32,
   "id": "24602123",
   "metadata": {
    "pycharm": {
     "name": "#%%\n"
    }
   },
   "outputs": [
    {
     "name": "stderr",
     "output_type": "stream",
     "text": [
      "3774942it [03:13, 19535.41it/s]\n"
     ]
    }
   ],
   "source": [
    "\n",
    "df_test['page_rank_s'],df_test['page_rank_d'],\\\n",
    "df_test['katz_s'],df_test['katz_d'],df_test['hits_s'],df_test['hits_d']=compute_features_stage2(df_test)"
   ]
  },
  {
   "cell_type": "code",
   "execution_count": 33,
   "id": "ec2cd513",
   "metadata": {
    "pycharm": {
     "name": "#%%\n"
    }
   },
   "outputs": [],
   "source": [
    "def compute_features_stage3(dft):\n",
    "     \n",
    "     same_coummunity=[]\n",
    "     Adar_index=[]\n",
    "     follows_back=[]\n",
    "     jaccard_for_followees=[]\n",
    "     jaccard_for_followers=[]\n",
    "     cosine_for_followees=[]\n",
    "     cosine_for_followers=[]\n",
    "     for i,row in tqdm(dft.iterrows()):\n",
    "             jaccard_for_followees.append(Jaccard_for_followees(row['source_node'],row['destination_node']))\n",
    "             jaccard_for_followers.append(Jaccard_for_followers(row['source_node'],row['destination_node']))\n",
    "             cosine_for_followees.append(Cosine_for_followees(row['source_node'],row['destination_node']))\n",
    "             cosine_for_followers.append(Cosine_for_followers(row['source_node'],row['destination_node']))\n",
    "              \n",
    "        \n",
    "             shortest_path.append(Compute_shortest_path_length(row['source_node'],row['destination_node']))\n",
    "             same_coummunity.append(Belongs_to_same_wcc(row['source_node'],row['destination_node'])) \n",
    "             Adar_index.append(calc_adar_in(row['source_node'],row['destination_node']))\n",
    "             follows_back.append(Follows_back(row['source_node'],row['destination_node']))\n",
    "     return jaccard_for_followees,jaccard_for_followers,\\\n",
    "        cosine_for_followees,cosine_for_followers,\\\n",
    "        same_coummunity,Adar_index,follows_back"
   ]
  },
  {
   "cell_type": "code",
   "execution_count": 34,
   "id": "8c9baccf",
   "metadata": {
    "pycharm": {
     "name": "#%%\n"
    }
   },
   "outputs": [
    {
     "name": "stderr",
     "output_type": "stream",
     "text": [
      "15099763it [4:05:45, 1024.02it/s]\n"
     ]
    }
   ],
   "source": [
    "df_train['jaccard_for_followees'],df_train['jaccard_for_followers'],\\\n",
    "df_train['cosine_for_followees'],df_train['cosine_for_followers'],\\\n",
    "df_train['same_coummunity'],df_train['Adar_index'],df_train['follows_back'],\\\n",
    "=compute_features_stage3(df_train)"
   ]
  },
  {
   "cell_type": "code",
   "execution_count": 35,
   "id": "a99681cd",
   "metadata": {
    "pycharm": {
     "name": "#%%\n"
    }
   },
   "outputs": [
    {
     "name": "stderr",
     "output_type": "stream",
     "text": [
      "3774942it [1:09:24, 906.43it/s]\n"
     ]
    }
   ],
   "source": [
    "df_test['jaccard_for_followees'],df_test['jaccard_for_followers'],\\\n",
    "df_test['cosine_for_followees'],df_test['cosine_for_followers'],\\\n",
    "df_test['same_coummunity'],df_test['Adar_index'],df_test['follows_back'],\\\n",
    "=compute_features_stage3(df_test)"
   ]
  },
  {
   "cell_type": "code",
   "execution_count": 36,
   "id": "11391e78",
   "metadata": {
    "scrolled": true,
    "pycharm": {
     "name": "#%%\n"
    }
   },
   "outputs": [
    {
     "data": {
      "text/html": [
       "<div>\n",
       "<style scoped>\n",
       "    .dataframe tbody tr th:only-of-type {\n",
       "        vertical-align: middle;\n",
       "    }\n",
       "\n",
       "    .dataframe tbody tr th {\n",
       "        vertical-align: top;\n",
       "    }\n",
       "\n",
       "    .dataframe thead th {\n",
       "        text-align: right;\n",
       "    }\n",
       "</style>\n",
       "<table border=\"1\" class=\"dataframe\">\n",
       "  <thead>\n",
       "    <tr style=\"text-align: right;\">\n",
       "      <th></th>\n",
       "      <th>source_node</th>\n",
       "      <th>destination_node</th>\n",
       "      <th>indicator_link</th>\n",
       "      <th>num_followers_s</th>\n",
       "      <th>num_followers_d</th>\n",
       "      <th>num_followees_s</th>\n",
       "      <th>num_followees_d</th>\n",
       "      <th>inter_followers</th>\n",
       "      <th>inter_followees</th>\n",
       "      <th>page_rank_s</th>\n",
       "      <th>...</th>\n",
       "      <th>hits_s</th>\n",
       "      <th>hits_d</th>\n",
       "      <th>jaccard_for_followees</th>\n",
       "      <th>jaccard_for_followers</th>\n",
       "      <th>cosine_for_followees</th>\n",
       "      <th>cosine_for_followers</th>\n",
       "      <th>same_coummunity</th>\n",
       "      <th>Adar_index</th>\n",
       "      <th>follows_back</th>\n",
       "      <th>shortest_path</th>\n",
       "    </tr>\n",
       "  </thead>\n",
       "  <tbody>\n",
       "    <tr>\n",
       "      <th>0</th>\n",
       "      <td>1443525</td>\n",
       "      <td>1177229</td>\n",
       "      <td>1</td>\n",
       "      <td>37</td>\n",
       "      <td>11</td>\n",
       "      <td>0</td>\n",
       "      <td>0</td>\n",
       "      <td>0</td>\n",
       "      <td>0</td>\n",
       "      <td>1.850118e-06</td>\n",
       "      <td>...</td>\n",
       "      <td>9.536818e-13</td>\n",
       "      <td>4.565034e-11</td>\n",
       "      <td>0.019608</td>\n",
       "      <td>0</td>\n",
       "      <td>0</td>\n",
       "      <td>0</td>\n",
       "      <td>1</td>\n",
       "      <td>0.480126</td>\n",
       "      <td>1</td>\n",
       "      <td>-1</td>\n",
       "    </tr>\n",
       "    <tr>\n",
       "      <th>1</th>\n",
       "      <td>582845</td>\n",
       "      <td>818904</td>\n",
       "      <td>1</td>\n",
       "      <td>4</td>\n",
       "      <td>2</td>\n",
       "      <td>0</td>\n",
       "      <td>0</td>\n",
       "      <td>0</td>\n",
       "      <td>0</td>\n",
       "      <td>7.622485e-07</td>\n",
       "      <td>...</td>\n",
       "      <td>2.834183e-17</td>\n",
       "      <td>9.197072e-14</td>\n",
       "      <td>0.000000</td>\n",
       "      <td>0</td>\n",
       "      <td>0</td>\n",
       "      <td>0</td>\n",
       "      <td>1</td>\n",
       "      <td>0.000000</td>\n",
       "      <td>1</td>\n",
       "      <td>-1</td>\n",
       "    </tr>\n",
       "    <tr>\n",
       "      <th>2</th>\n",
       "      <td>764111</td>\n",
       "      <td>1729045</td>\n",
       "      <td>1</td>\n",
       "      <td>20</td>\n",
       "      <td>23</td>\n",
       "      <td>0</td>\n",
       "      <td>0</td>\n",
       "      <td>0</td>\n",
       "      <td>0</td>\n",
       "      <td>2.882923e-06</td>\n",
       "      <td>...</td>\n",
       "      <td>1.558661e-13</td>\n",
       "      <td>1.139772e-14</td>\n",
       "      <td>0.000000</td>\n",
       "      <td>0</td>\n",
       "      <td>0</td>\n",
       "      <td>0</td>\n",
       "      <td>1</td>\n",
       "      <td>0.000000</td>\n",
       "      <td>1</td>\n",
       "      <td>-1</td>\n",
       "    </tr>\n",
       "    <tr>\n",
       "      <th>3</th>\n",
       "      <td>499479</td>\n",
       "      <td>828225</td>\n",
       "      <td>1</td>\n",
       "      <td>0</td>\n",
       "      <td>2</td>\n",
       "      <td>0</td>\n",
       "      <td>0</td>\n",
       "      <td>0</td>\n",
       "      <td>0</td>\n",
       "      <td>1.655959e-07</td>\n",
       "      <td>...</td>\n",
       "      <td>3.075192e-17</td>\n",
       "      <td>1.289906e-15</td>\n",
       "      <td>0.000000</td>\n",
       "      <td>0</td>\n",
       "      <td>0</td>\n",
       "      <td>0</td>\n",
       "      <td>1</td>\n",
       "      <td>0.000000</td>\n",
       "      <td>0</td>\n",
       "      <td>-1</td>\n",
       "    </tr>\n",
       "    <tr>\n",
       "      <th>4</th>\n",
       "      <td>182676</td>\n",
       "      <td>1647409</td>\n",
       "      <td>1</td>\n",
       "      <td>10</td>\n",
       "      <td>22</td>\n",
       "      <td>0</td>\n",
       "      <td>0</td>\n",
       "      <td>0</td>\n",
       "      <td>0</td>\n",
       "      <td>4.898329e-07</td>\n",
       "      <td>...</td>\n",
       "      <td>5.601692e-09</td>\n",
       "      <td>1.093959e-11</td>\n",
       "      <td>0.535714</td>\n",
       "      <td>0</td>\n",
       "      <td>0</td>\n",
       "      <td>0</td>\n",
       "      <td>1</td>\n",
       "      <td>15.468246</td>\n",
       "      <td>1</td>\n",
       "      <td>-1</td>\n",
       "    </tr>\n",
       "  </tbody>\n",
       "</table>\n",
       "<p>5 rows × 23 columns</p>\n",
       "</div>"
      ],
      "text/plain": [
       "   source_node  destination_node  indicator_link  num_followers_s  \\\n",
       "0      1443525           1177229               1               37   \n",
       "1       582845            818904               1                4   \n",
       "2       764111           1729045               1               20   \n",
       "3       499479            828225               1                0   \n",
       "4       182676           1647409               1               10   \n",
       "\n",
       "   num_followers_d  num_followees_s  num_followees_d  inter_followers  \\\n",
       "0               11                0                0                0   \n",
       "1                2                0                0                0   \n",
       "2               23                0                0                0   \n",
       "3                2                0                0                0   \n",
       "4               22                0                0                0   \n",
       "\n",
       "   inter_followees   page_rank_s  ...        hits_s        hits_d  \\\n",
       "0                0  1.850118e-06  ...  9.536818e-13  4.565034e-11   \n",
       "1                0  7.622485e-07  ...  2.834183e-17  9.197072e-14   \n",
       "2                0  2.882923e-06  ...  1.558661e-13  1.139772e-14   \n",
       "3                0  1.655959e-07  ...  3.075192e-17  1.289906e-15   \n",
       "4                0  4.898329e-07  ...  5.601692e-09  1.093959e-11   \n",
       "\n",
       "   jaccard_for_followees  jaccard_for_followers  cosine_for_followees  \\\n",
       "0               0.019608                      0                     0   \n",
       "1               0.000000                      0                     0   \n",
       "2               0.000000                      0                     0   \n",
       "3               0.000000                      0                     0   \n",
       "4               0.535714                      0                     0   \n",
       "\n",
       "   cosine_for_followers  same_coummunity  Adar_index  follows_back  \\\n",
       "0                     0                1    0.480126             1   \n",
       "1                     0                1    0.000000             1   \n",
       "2                     0                1    0.000000             1   \n",
       "3                     0                1    0.000000             0   \n",
       "4                     0                1   15.468246             1   \n",
       "\n",
       "   shortest_path  \n",
       "0             -1  \n",
       "1             -1  \n",
       "2             -1  \n",
       "3             -1  \n",
       "4             -1  \n",
       "\n",
       "[5 rows x 23 columns]"
      ]
     },
     "execution_count": 36,
     "metadata": {},
     "output_type": "execute_result"
    }
   ],
   "source": [
    "df_train.head()"
   ]
  },
  {
   "cell_type": "code",
   "execution_count": 59,
   "id": "493f602b",
   "metadata": {
    "pycharm": {
     "name": "#%%\n"
    }
   },
   "outputs": [],
   "source": [
    "def Compute_features_stage4(dft):\n",
    "    shortest_path=[]\n",
    "    for i,row in tqdm(dft.iterrows()):\n",
    "        shortest_path.append(Compute_shortest_path_length(row['source_node'],row['destination_node']))\n",
    "        \n",
    "    return shortest_path\n",
    "        \n",
    "    \n",
    "    "
   ]
  },
  {
   "cell_type": "code",
   "execution_count": 56,
   "id": "42af4597",
   "metadata": {
    "pycharm": {
     "name": "#%%\n"
    }
   },
   "outputs": [],
   "source": [
    "df_train=df_train.drop(['shortest_path'], axis=1)\n",
    "df_test=df_test.drop(['shortest_path'], axis=1)"
   ]
  },
  {
   "cell_type": "code",
   "execution_count": 60,
   "id": "f4303345",
   "metadata": {
    "scrolled": true,
    "pycharm": {
     "name": "#%%\n"
    }
   },
   "outputs": [
    {
     "name": "stderr",
     "output_type": "stream",
     "text": [
      "15099763it [1:35:36, 2632.09it/s]\n",
      "3774942it [23:24, 2688.10it/s]\n"
     ]
    }
   ],
   "source": [
    "df_train['shortest_path']=Compute_features_stage4(df_train)\n",
    "df_test['shortest_path']=Compute_features_stage4(df_test)"
   ]
  },
  {
   "cell_type": "code",
   "execution_count": 61,
   "id": "6d4bd92f",
   "metadata": {
    "pycharm": {
     "name": "#%%\n"
    }
   },
   "outputs": [
    {
     "data": {
      "text/html": [
       "<div>\n",
       "<style scoped>\n",
       "    .dataframe tbody tr th:only-of-type {\n",
       "        vertical-align: middle;\n",
       "    }\n",
       "\n",
       "    .dataframe tbody tr th {\n",
       "        vertical-align: top;\n",
       "    }\n",
       "\n",
       "    .dataframe thead th {\n",
       "        text-align: right;\n",
       "    }\n",
       "</style>\n",
       "<table border=\"1\" class=\"dataframe\">\n",
       "  <thead>\n",
       "    <tr style=\"text-align: right;\">\n",
       "      <th></th>\n",
       "      <th>source_node</th>\n",
       "      <th>destination_node</th>\n",
       "      <th>indicator_link</th>\n",
       "      <th>num_followers_s</th>\n",
       "      <th>num_followers_d</th>\n",
       "      <th>num_followees_s</th>\n",
       "      <th>num_followees_d</th>\n",
       "      <th>inter_followers</th>\n",
       "      <th>inter_followees</th>\n",
       "      <th>page_rank_s</th>\n",
       "      <th>...</th>\n",
       "      <th>hits_s</th>\n",
       "      <th>hits_d</th>\n",
       "      <th>jaccard_for_followees</th>\n",
       "      <th>jaccard_for_followers</th>\n",
       "      <th>cosine_for_followees</th>\n",
       "      <th>cosine_for_followers</th>\n",
       "      <th>same_coummunity</th>\n",
       "      <th>Adar_index</th>\n",
       "      <th>follows_back</th>\n",
       "      <th>shortest_path</th>\n",
       "    </tr>\n",
       "  </thead>\n",
       "  <tbody>\n",
       "    <tr>\n",
       "      <th>0</th>\n",
       "      <td>925781</td>\n",
       "      <td>744483</td>\n",
       "      <td>1</td>\n",
       "      <td>8</td>\n",
       "      <td>8</td>\n",
       "      <td>0</td>\n",
       "      <td>0</td>\n",
       "      <td>0</td>\n",
       "      <td>0</td>\n",
       "      <td>1.233243e-06</td>\n",
       "      <td>...</td>\n",
       "      <td>8.102679e-17</td>\n",
       "      <td>4.691355e-18</td>\n",
       "      <td>0.000000</td>\n",
       "      <td>0</td>\n",
       "      <td>0</td>\n",
       "      <td>0</td>\n",
       "      <td>1</td>\n",
       "      <td>0.000000</td>\n",
       "      <td>1</td>\n",
       "      <td>-1</td>\n",
       "    </tr>\n",
       "    <tr>\n",
       "      <th>1</th>\n",
       "      <td>1047516</td>\n",
       "      <td>1767158</td>\n",
       "      <td>1</td>\n",
       "      <td>23</td>\n",
       "      <td>18</td>\n",
       "      <td>0</td>\n",
       "      <td>0</td>\n",
       "      <td>0</td>\n",
       "      <td>0</td>\n",
       "      <td>1.393932e-06</td>\n",
       "      <td>...</td>\n",
       "      <td>2.676223e-15</td>\n",
       "      <td>2.948024e-15</td>\n",
       "      <td>0.028571</td>\n",
       "      <td>0</td>\n",
       "      <td>0</td>\n",
       "      <td>0</td>\n",
       "      <td>1</td>\n",
       "      <td>1.285097</td>\n",
       "      <td>1</td>\n",
       "      <td>2</td>\n",
       "    </tr>\n",
       "    <tr>\n",
       "      <th>2</th>\n",
       "      <td>1123446</td>\n",
       "      <td>798286</td>\n",
       "      <td>1</td>\n",
       "      <td>11</td>\n",
       "      <td>15</td>\n",
       "      <td>0</td>\n",
       "      <td>0</td>\n",
       "      <td>0</td>\n",
       "      <td>0</td>\n",
       "      <td>1.119169e-06</td>\n",
       "      <td>...</td>\n",
       "      <td>8.410698e-16</td>\n",
       "      <td>1.670059e-15</td>\n",
       "      <td>0.000000</td>\n",
       "      <td>0</td>\n",
       "      <td>0</td>\n",
       "      <td>0</td>\n",
       "      <td>1</td>\n",
       "      <td>0.000000</td>\n",
       "      <td>1</td>\n",
       "      <td>-1</td>\n",
       "    </tr>\n",
       "    <tr>\n",
       "      <th>3</th>\n",
       "      <td>1093801</td>\n",
       "      <td>936448</td>\n",
       "      <td>1</td>\n",
       "      <td>2</td>\n",
       "      <td>2</td>\n",
       "      <td>0</td>\n",
       "      <td>0</td>\n",
       "      <td>0</td>\n",
       "      <td>0</td>\n",
       "      <td>6.863109e-07</td>\n",
       "      <td>...</td>\n",
       "      <td>7.586266e-18</td>\n",
       "      <td>4.112738e-21</td>\n",
       "      <td>0.000000</td>\n",
       "      <td>0</td>\n",
       "      <td>0</td>\n",
       "      <td>0</td>\n",
       "      <td>1</td>\n",
       "      <td>0.000000</td>\n",
       "      <td>1</td>\n",
       "      <td>-1</td>\n",
       "    </tr>\n",
       "    <tr>\n",
       "      <th>4</th>\n",
       "      <td>1667658</td>\n",
       "      <td>649427</td>\n",
       "      <td>1</td>\n",
       "      <td>48</td>\n",
       "      <td>19</td>\n",
       "      <td>0</td>\n",
       "      <td>0</td>\n",
       "      <td>0</td>\n",
       "      <td>0</td>\n",
       "      <td>9.345963e-07</td>\n",
       "      <td>...</td>\n",
       "      <td>1.078604e-18</td>\n",
       "      <td>4.692323e-19</td>\n",
       "      <td>0.192308</td>\n",
       "      <td>0</td>\n",
       "      <td>0</td>\n",
       "      <td>0</td>\n",
       "      <td>1</td>\n",
       "      <td>3.111279</td>\n",
       "      <td>0</td>\n",
       "      <td>2</td>\n",
       "    </tr>\n",
       "  </tbody>\n",
       "</table>\n",
       "<p>5 rows × 23 columns</p>\n",
       "</div>"
      ],
      "text/plain": [
       "   source_node  destination_node  indicator_link  num_followers_s  \\\n",
       "0       925781            744483               1                8   \n",
       "1      1047516           1767158               1               23   \n",
       "2      1123446            798286               1               11   \n",
       "3      1093801            936448               1                2   \n",
       "4      1667658            649427               1               48   \n",
       "\n",
       "   num_followers_d  num_followees_s  num_followees_d  inter_followers  \\\n",
       "0                8                0                0                0   \n",
       "1               18                0                0                0   \n",
       "2               15                0                0                0   \n",
       "3                2                0                0                0   \n",
       "4               19                0                0                0   \n",
       "\n",
       "   inter_followees   page_rank_s  ...        hits_s        hits_d  \\\n",
       "0                0  1.233243e-06  ...  8.102679e-17  4.691355e-18   \n",
       "1                0  1.393932e-06  ...  2.676223e-15  2.948024e-15   \n",
       "2                0  1.119169e-06  ...  8.410698e-16  1.670059e-15   \n",
       "3                0  6.863109e-07  ...  7.586266e-18  4.112738e-21   \n",
       "4                0  9.345963e-07  ...  1.078604e-18  4.692323e-19   \n",
       "\n",
       "   jaccard_for_followees  jaccard_for_followers  cosine_for_followees  \\\n",
       "0               0.000000                      0                     0   \n",
       "1               0.028571                      0                     0   \n",
       "2               0.000000                      0                     0   \n",
       "3               0.000000                      0                     0   \n",
       "4               0.192308                      0                     0   \n",
       "\n",
       "   cosine_for_followers  same_coummunity  Adar_index  follows_back  \\\n",
       "0                     0                1    0.000000             1   \n",
       "1                     0                1    1.285097             1   \n",
       "2                     0                1    0.000000             1   \n",
       "3                     0                1    0.000000             1   \n",
       "4                     0                1    3.111279             0   \n",
       "\n",
       "   shortest_path  \n",
       "0             -1  \n",
       "1              2  \n",
       "2             -1  \n",
       "3             -1  \n",
       "4              2  \n",
       "\n",
       "[5 rows x 23 columns]"
      ]
     },
     "execution_count": 61,
     "metadata": {},
     "output_type": "execute_result"
    }
   ],
   "source": [
    "df_test.head()"
   ]
  },
  {
   "cell_type": "code",
   "execution_count": 62,
   "id": "6badf420",
   "metadata": {
    "pycharm": {
     "name": "#%%\n"
    }
   },
   "outputs": [],
   "source": [
    "df_train.to_csv('FB_train_featurization.csv')\n",
    "df_test.to_csv('FB_test_featurization.csv')\n",
    "\n"
   ]
  }
 ],
 "metadata": {
  "kernelspec": {
   "display_name": "Python 3 (ipykernel)",
   "language": "python",
   "name": "python3"
  },
  "language_info": {
   "codemirror_mode": {
    "name": "ipython",
    "version": 3
   },
   "file_extension": ".py",
   "mimetype": "text/x-python",
   "name": "python",
   "nbconvert_exporter": "python",
   "pygments_lexer": "ipython3",
   "version": "3.9.12"
  }
 },
 "nbformat": 4,
 "nbformat_minor": 5
}